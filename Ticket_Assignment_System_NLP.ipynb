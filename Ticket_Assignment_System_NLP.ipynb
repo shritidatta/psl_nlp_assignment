{
 "cells": [
  {
   "cell_type": "markdown",
   "id": "1934155d",
   "metadata": {},
   "source": [
    "# Problem Statement"
   ]
  },
  {
   "cell_type": "markdown",
   "id": "e185e1b0",
   "metadata": {},
   "source": [
    "We need to build a model that is able to classify Customer Complaints based on the products/services. By doing so you can segregate these tickets into their relevant categories.\n",
    "\n",
    "As data is not labeled, apply NMF to analyse patterns and classify the tickets into the following 5 clusters based on the products/services.\n",
    "\n",
    "- **Credit/Prepaid Card**\n",
    "- **Bank Account Services**\n",
    "- **Theft/Dispute Reporting**\n",
    "- **Mortgages/Loans**\n",
    "- **Others**"
   ]
  },
  {
   "cell_type": "markdown",
   "id": "4b1320dc",
   "metadata": {},
   "source": [
    "# Import Required Libraries and Modules"
   ]
  },
  {
   "cell_type": "code",
   "execution_count": 76,
   "id": "2f4cfa14",
   "metadata": {},
   "outputs": [],
   "source": [
    "# Builtin libraries\n",
    "import os\n",
    "import warnings\n",
    "import json\n",
    "import re\n",
    "import string\n",
    "import IPython as ipy\n",
    "import pickle\n",
    "import pprint\n",
    "\n",
    "# libraries for machine learning \n",
    "import numpy as np\n",
    "import pandas as pd\n",
    "import matplotlib as mpl \n",
    "import seaborn as sns\n",
    "import plotly\n",
    "import sklearn as skl \n",
    "import json\n",
    "\n",
    "# NLP libraries\n",
    "import nltk\n",
    "import spacy\n",
    "import en_core_web_sm\n",
    "import textblob\n",
    "import wordcloud\n",
    "import gensim\n",
    "import string"
   ]
  },
  {
   "cell_type": "code",
   "execution_count": 77,
   "id": "bc7096cf",
   "metadata": {},
   "outputs": [],
   "source": [
    "warnings.filterwarnings(action='ignore')"
   ]
  },
  {
   "cell_type": "code",
   "execution_count": 78,
   "id": "a84c06e5",
   "metadata": {},
   "outputs": [],
   "source": [
    "from IPython.display import display\n",
    "from IPython.core.interactiveshell import InteractiveShell\n",
    "InteractiveShell.ast_node_interactivity = 'all'\n",
    "\n",
    "from matplotlib import pyplot as plt \n",
    "\n",
    "from sklearn.model_selection import train_test_split as tts \n",
    "from sklearn.linear_model import LogisticRegression \n",
    "from sklearn.naive_bayes import MultinomialNB\n",
    "from sklearn.tree import DecisionTreeClassifier \n",
    "from sklearn.ensemble import RandomForestClassifier\n",
    "from sklearn.feature_extraction.text import CountVectorizer, TfidfVectorizer, TfidfTransformer \n",
    "from sklearn.metrics import confusion_matrix, f1_score, classification_report\n",
    "from sklearn import decomposition as decomp\n",
    "\n",
    "from plotly import offline as plot\n",
    "from plotly import graph_objects as go\n",
    "from plotly import express as px\n",
    "\n",
    "from pprint import pprint\n",
    "\n",
    "from textblob import TextBlob\n",
    "from wordcloud import WordCloud, STOPWORDS, ImageColorGenerator\n",
    "from nltk.corpus import stopwords\n",
    "from nltk.stem import WordNetLemmatizer\n",
    "\n",
    "from gensim.corpora.dictionary import Dictionary\n",
    "from gensim.models import nmf, CoherenceModel \n",
    "from gensim.models.coherencemodel import CoherenceModel\n",
    "from operator import itemgetter"
   ]
  },
  {
   "cell_type": "code",
   "execution_count": 81,
   "id": "e1c25668",
   "metadata": {},
   "outputs": [],
   "source": [
    "# nlp_model = en_core_web_sm.load()"
   ]
  },
  {
   "cell_type": "markdown",
   "id": "0bfe3ded",
   "metadata": {},
   "source": [
    "# Loading Input (JSON) Data as DataFrame"
   ]
  },
  {
   "cell_type": "code",
   "execution_count": 82,
   "id": "f6550f84",
   "metadata": {},
   "outputs": [
    {
     "data": {
      "text/html": [
       "<div>\n",
       "<style scoped>\n",
       "    .dataframe tbody tr th:only-of-type {\n",
       "        vertical-align: middle;\n",
       "    }\n",
       "\n",
       "    .dataframe tbody tr th {\n",
       "        vertical-align: top;\n",
       "    }\n",
       "\n",
       "    .dataframe thead th {\n",
       "        text-align: right;\n",
       "    }\n",
       "</style>\n",
       "<table border=\"1\" class=\"dataframe\">\n",
       "  <thead>\n",
       "    <tr style=\"text-align: right;\">\n",
       "      <th></th>\n",
       "      <th>_index</th>\n",
       "      <th>_type</th>\n",
       "      <th>_id</th>\n",
       "      <th>_score</th>\n",
       "      <th>_source.tags</th>\n",
       "      <th>_source.zip_code</th>\n",
       "      <th>_source.complaint_id</th>\n",
       "      <th>_source.issue</th>\n",
       "      <th>_source.date_received</th>\n",
       "      <th>_source.state</th>\n",
       "      <th>...</th>\n",
       "      <th>_source.company_response</th>\n",
       "      <th>_source.company</th>\n",
       "      <th>_source.submitted_via</th>\n",
       "      <th>_source.date_sent_to_company</th>\n",
       "      <th>_source.company_public_response</th>\n",
       "      <th>_source.sub_product</th>\n",
       "      <th>_source.timely</th>\n",
       "      <th>_source.complaint_what_happened</th>\n",
       "      <th>_source.sub_issue</th>\n",
       "      <th>_source.consumer_consent_provided</th>\n",
       "    </tr>\n",
       "  </thead>\n",
       "  <tbody>\n",
       "    <tr>\n",
       "      <th>0</th>\n",
       "      <td>complaint-public-v2</td>\n",
       "      <td>complaint</td>\n",
       "      <td>3211475</td>\n",
       "      <td>0.0</td>\n",
       "      <td>None</td>\n",
       "      <td>90301</td>\n",
       "      <td>3211475</td>\n",
       "      <td>Attempts to collect debt not owed</td>\n",
       "      <td>2019-04-13T12:00:00-05:00</td>\n",
       "      <td>CA</td>\n",
       "      <td>...</td>\n",
       "      <td>Closed with explanation</td>\n",
       "      <td>JPMORGAN CHASE &amp; CO.</td>\n",
       "      <td>Web</td>\n",
       "      <td>2019-04-13T12:00:00-05:00</td>\n",
       "      <td>None</td>\n",
       "      <td>Credit card debt</td>\n",
       "      <td>Yes</td>\n",
       "      <td></td>\n",
       "      <td>Debt is not yours</td>\n",
       "      <td>Consent not provided</td>\n",
       "    </tr>\n",
       "    <tr>\n",
       "      <th>1</th>\n",
       "      <td>complaint-public-v2</td>\n",
       "      <td>complaint</td>\n",
       "      <td>3229299</td>\n",
       "      <td>0.0</td>\n",
       "      <td>Servicemember</td>\n",
       "      <td>319XX</td>\n",
       "      <td>3229299</td>\n",
       "      <td>Written notification about debt</td>\n",
       "      <td>2019-05-01T12:00:00-05:00</td>\n",
       "      <td>GA</td>\n",
       "      <td>...</td>\n",
       "      <td>Closed with explanation</td>\n",
       "      <td>JPMORGAN CHASE &amp; CO.</td>\n",
       "      <td>Web</td>\n",
       "      <td>2019-05-01T12:00:00-05:00</td>\n",
       "      <td>None</td>\n",
       "      <td>Credit card debt</td>\n",
       "      <td>Yes</td>\n",
       "      <td>Good morning my name is XXXX XXXX and I apprec...</td>\n",
       "      <td>Didn't receive enough information to verify debt</td>\n",
       "      <td>Consent provided</td>\n",
       "    </tr>\n",
       "    <tr>\n",
       "      <th>2</th>\n",
       "      <td>complaint-public-v2</td>\n",
       "      <td>complaint</td>\n",
       "      <td>3199379</td>\n",
       "      <td>0.0</td>\n",
       "      <td>None</td>\n",
       "      <td>77069</td>\n",
       "      <td>3199379</td>\n",
       "      <td>Other features, terms, or problems</td>\n",
       "      <td>2019-04-02T12:00:00-05:00</td>\n",
       "      <td>TX</td>\n",
       "      <td>...</td>\n",
       "      <td>Closed with explanation</td>\n",
       "      <td>JPMORGAN CHASE &amp; CO.</td>\n",
       "      <td>Web</td>\n",
       "      <td>2019-04-02T12:00:00-05:00</td>\n",
       "      <td>None</td>\n",
       "      <td>General-purpose credit card or charge card</td>\n",
       "      <td>Yes</td>\n",
       "      <td>I upgraded my XXXX XXXX card in XX/XX/2018 and...</td>\n",
       "      <td>Problem with rewards from credit card</td>\n",
       "      <td>Consent provided</td>\n",
       "    </tr>\n",
       "  </tbody>\n",
       "</table>\n",
       "<p>3 rows × 22 columns</p>\n",
       "</div>"
      ],
      "text/plain": [
       "                _index      _type      _id  _score   _source.tags  \\\n",
       "0  complaint-public-v2  complaint  3211475     0.0           None   \n",
       "1  complaint-public-v2  complaint  3229299     0.0  Servicemember   \n",
       "2  complaint-public-v2  complaint  3199379     0.0           None   \n",
       "\n",
       "  _source.zip_code _source.complaint_id                       _source.issue  \\\n",
       "0            90301              3211475   Attempts to collect debt not owed   \n",
       "1            319XX              3229299     Written notification about debt   \n",
       "2            77069              3199379  Other features, terms, or problems   \n",
       "\n",
       "       _source.date_received _source.state  ... _source.company_response  \\\n",
       "0  2019-04-13T12:00:00-05:00            CA  ...  Closed with explanation   \n",
       "1  2019-05-01T12:00:00-05:00            GA  ...  Closed with explanation   \n",
       "2  2019-04-02T12:00:00-05:00            TX  ...  Closed with explanation   \n",
       "\n",
       "        _source.company _source.submitted_via _source.date_sent_to_company  \\\n",
       "0  JPMORGAN CHASE & CO.                   Web    2019-04-13T12:00:00-05:00   \n",
       "1  JPMORGAN CHASE & CO.                   Web    2019-05-01T12:00:00-05:00   \n",
       "2  JPMORGAN CHASE & CO.                   Web    2019-04-02T12:00:00-05:00   \n",
       "\n",
       "  _source.company_public_response                         _source.sub_product  \\\n",
       "0                            None                            Credit card debt   \n",
       "1                            None                            Credit card debt   \n",
       "2                            None  General-purpose credit card or charge card   \n",
       "\n",
       "  _source.timely                    _source.complaint_what_happened  \\\n",
       "0            Yes                                                      \n",
       "1            Yes  Good morning my name is XXXX XXXX and I apprec...   \n",
       "2            Yes  I upgraded my XXXX XXXX card in XX/XX/2018 and...   \n",
       "\n",
       "                                  _source.sub_issue  \\\n",
       "0                                 Debt is not yours   \n",
       "1  Didn't receive enough information to verify debt   \n",
       "2             Problem with rewards from credit card   \n",
       "\n",
       "  _source.consumer_consent_provided  \n",
       "0              Consent not provided  \n",
       "1                  Consent provided  \n",
       "2                  Consent provided  \n",
       "\n",
       "[3 rows x 22 columns]"
      ]
     },
     "execution_count": 82,
     "metadata": {},
     "output_type": "execute_result"
    }
   ],
   "source": [
    "with open(\"./Client_data.json\") as f_handle:\n",
    "    input_data = json.load(f_handle)\n",
    "input_df = pd.json_normalize(input_data)\n",
    "input_df.head(3)"
   ]
  },
  {
   "cell_type": "markdown",
   "id": "dca4d56c",
   "metadata": {},
   "source": [
    "# EDA"
   ]
  },
  {
   "cell_type": "code",
   "execution_count": 83,
   "id": "af92603d",
   "metadata": {},
   "outputs": [
    {
     "data": {
      "text/plain": [
       "(78313, 22)"
      ]
     },
     "execution_count": 83,
     "metadata": {},
     "output_type": "execute_result"
    }
   ],
   "source": [
    "#Size of the dataset\n",
    "input_df.shape"
   ]
  },
  {
   "cell_type": "code",
   "execution_count": 84,
   "id": "9bfc1d36",
   "metadata": {},
   "outputs": [
    {
     "name": "stdout",
     "output_type": "stream",
     "text": [
      "<class 'pandas.core.frame.DataFrame'>\n",
      "RangeIndex: 78313 entries, 0 to 78312\n",
      "Data columns (total 22 columns):\n",
      " #   Column                             Non-Null Count  Dtype  \n",
      "---  ------                             --------------  -----  \n",
      " 0   _index                             78313 non-null  object \n",
      " 1   _type                              78313 non-null  object \n",
      " 2   _id                                78313 non-null  object \n",
      " 3   _score                             78313 non-null  float64\n",
      " 4   _source.tags                       10900 non-null  object \n",
      " 5   _source.zip_code                   71556 non-null  object \n",
      " 6   _source.complaint_id               78313 non-null  object \n",
      " 7   _source.issue                      78313 non-null  object \n",
      " 8   _source.date_received              78313 non-null  object \n",
      " 9   _source.state                      76322 non-null  object \n",
      " 10  _source.consumer_disputed          78313 non-null  object \n",
      " 11  _source.product                    78313 non-null  object \n",
      " 12  _source.company_response           78313 non-null  object \n",
      " 13  _source.company                    78313 non-null  object \n",
      " 14  _source.submitted_via              78313 non-null  object \n",
      " 15  _source.date_sent_to_company       78313 non-null  object \n",
      " 16  _source.company_public_response    4 non-null      object \n",
      " 17  _source.sub_product                67742 non-null  object \n",
      " 18  _source.timely                     78313 non-null  object \n",
      " 19  _source.complaint_what_happened    78313 non-null  object \n",
      " 20  _source.sub_issue                  32016 non-null  object \n",
      " 21  _source.consumer_consent_provided  77305 non-null  object \n",
      "dtypes: float64(1), object(21)\n",
      "memory usage: 13.1+ MB\n"
     ]
    }
   ],
   "source": [
    "#Information about the dataframe (column names,column length, datatypes and if they contain null records)\n",
    "input_df.info()"
   ]
  },
  {
   "cell_type": "markdown",
   "id": "7ccb69ee",
   "metadata": {},
   "source": [
    "#### *Observation: We see non-null values for every column. Column '_source.company_public_response'  has only 4 records so can be ignored for further exploration.*"
   ]
  },
  {
   "cell_type": "code",
   "execution_count": 85,
   "id": "5373e4e5",
   "metadata": {},
   "outputs": [
    {
     "data": {
      "text/plain": [
       "Index(['_index', '_type', '_id', '_score', '_source.tags', '_source.zip_code',\n",
       "       '_source.complaint_id', '_source.issue', '_source.date_received',\n",
       "       '_source.state', '_source.consumer_disputed', '_source.product',\n",
       "       '_source.company_response', '_source.company', '_source.submitted_via',\n",
       "       '_source.date_sent_to_company', '_source.company_public_response',\n",
       "       '_source.sub_product', '_source.timely',\n",
       "       '_source.complaint_what_happened', '_source.sub_issue',\n",
       "       '_source.consumer_consent_provided'],\n",
       "      dtype='object')"
      ]
     },
     "execution_count": 85,
     "metadata": {},
     "output_type": "execute_result"
    }
   ],
   "source": [
    "input_df.columns"
   ]
  },
  {
   "cell_type": "code",
   "execution_count": 86,
   "id": "53e79c1a",
   "metadata": {},
   "outputs": [
    {
     "data": {
      "text/plain": [
       "(78313, 3)"
      ]
     },
     "execution_count": 86,
     "metadata": {},
     "output_type": "execute_result"
    }
   ],
   "source": [
    "#Choosing only the necessary columns - '_source.product','_source.sub_product','_source.complaint_what_happened' from source dataframe\n",
    "\n",
    "complain_df = input_df[['_source.product','_source.sub_product','_source.complaint_what_happened']]\n",
    "complain_df.shape"
   ]
  },
  {
   "cell_type": "code",
   "execution_count": 87,
   "id": "661da4d0",
   "metadata": {},
   "outputs": [
    {
     "name": "stdout",
     "output_type": "stream",
     "text": [
      "<class 'pandas.core.frame.DataFrame'>\n",
      "RangeIndex: 78313 entries, 0 to 78312\n",
      "Data columns (total 3 columns):\n",
      " #   Column        Non-Null Count  Dtype \n",
      "---  ------        --------------  ----- \n",
      " 0   Category      78313 non-null  object\n",
      " 1   Sub_Category  67742 non-null  object\n",
      " 2   Complaint     78313 non-null  object\n",
      "dtypes: object(3)\n",
      "memory usage: 1.8+ MB\n"
     ]
    }
   ],
   "source": [
    "#Renaming the columns\n",
    "\n",
    "complain_df = complain_df.rename(columns={'_source.complaint_what_happened': 'Complaint', '_source.product': 'Category','_source.sub_product': 'Sub_Category' })\n",
    "complain_df.info()"
   ]
  },
  {
   "cell_type": "code",
   "execution_count": 88,
   "id": "37577d6f",
   "metadata": {},
   "outputs": [
    {
     "data": {
      "text/html": [
       "<div>\n",
       "<style scoped>\n",
       "    .dataframe tbody tr th:only-of-type {\n",
       "        vertical-align: middle;\n",
       "    }\n",
       "\n",
       "    .dataframe tbody tr th {\n",
       "        vertical-align: top;\n",
       "    }\n",
       "\n",
       "    .dataframe thead th {\n",
       "        text-align: right;\n",
       "    }\n",
       "</style>\n",
       "<table border=\"1\" class=\"dataframe\">\n",
       "  <thead>\n",
       "    <tr style=\"text-align: right;\">\n",
       "      <th></th>\n",
       "      <th>Category</th>\n",
       "      <th>Sub_Category</th>\n",
       "      <th>Complaint</th>\n",
       "    </tr>\n",
       "  </thead>\n",
       "  <tbody>\n",
       "    <tr>\n",
       "      <th>0</th>\n",
       "      <td>Debt collection</td>\n",
       "      <td>Credit card debt</td>\n",
       "      <td></td>\n",
       "    </tr>\n",
       "    <tr>\n",
       "      <th>1</th>\n",
       "      <td>Debt collection</td>\n",
       "      <td>Credit card debt</td>\n",
       "      <td>Good morning my name is XXXX XXXX and I apprec...</td>\n",
       "    </tr>\n",
       "    <tr>\n",
       "      <th>2</th>\n",
       "      <td>Credit card or prepaid card</td>\n",
       "      <td>General-purpose credit card or charge card</td>\n",
       "      <td>I upgraded my XXXX XXXX card in XX/XX/2018 and...</td>\n",
       "    </tr>\n",
       "    <tr>\n",
       "      <th>3</th>\n",
       "      <td>Mortgage</td>\n",
       "      <td>Conventional home mortgage</td>\n",
       "      <td></td>\n",
       "    </tr>\n",
       "    <tr>\n",
       "      <th>4</th>\n",
       "      <td>Credit card or prepaid card</td>\n",
       "      <td>General-purpose credit card or charge card</td>\n",
       "      <td></td>\n",
       "    </tr>\n",
       "  </tbody>\n",
       "</table>\n",
       "</div>"
      ],
      "text/plain": [
       "                      Category                                Sub_Category  \\\n",
       "0              Debt collection                            Credit card debt   \n",
       "1              Debt collection                            Credit card debt   \n",
       "2  Credit card or prepaid card  General-purpose credit card or charge card   \n",
       "3                     Mortgage                  Conventional home mortgage   \n",
       "4  Credit card or prepaid card  General-purpose credit card or charge card   \n",
       "\n",
       "                                           Complaint  \n",
       "0                                                     \n",
       "1  Good morning my name is XXXX XXXX and I apprec...  \n",
       "2  I upgraded my XXXX XXXX card in XX/XX/2018 and...  \n",
       "3                                                     \n",
       "4                                                     "
      ]
     },
     "execution_count": 88,
     "metadata": {},
     "output_type": "execute_result"
    }
   ],
   "source": [
    "complain_df.head()"
   ]
  },
  {
   "cell_type": "markdown",
   "id": "5c11a862",
   "metadata": {},
   "source": [
    "#### *Observation: We see that the column 'Sub_Category' contains some null values so replacing them with nan.There are a few records with missing values. We will drop them.*"
   ]
  },
  {
   "cell_type": "code",
   "execution_count": 89,
   "id": "2d5c879b",
   "metadata": {},
   "outputs": [
    {
     "data": {
      "text/plain": [
       "(67742, 3)"
      ]
     },
     "execution_count": 89,
     "metadata": {},
     "output_type": "execute_result"
    }
   ],
   "source": [
    "#Dropping missing values\n",
    "\n",
    "complain_df.dropna(inplace=True)\n",
    "complain_df.shape"
   ]
  },
  {
   "cell_type": "code",
   "execution_count": 90,
   "id": "6bc43985",
   "metadata": {},
   "outputs": [],
   "source": [
    "#Replacing the blank comments with Nan\n",
    "\n",
    "complain_df = complain_df.replace(r'^\\s*$', np.nan, regex=True)"
   ]
  },
  {
   "cell_type": "code",
   "execution_count": 91,
   "id": "8958b03e",
   "metadata": {},
   "outputs": [
    {
     "data": {
      "text/html": [
       "<div>\n",
       "<style scoped>\n",
       "    .dataframe tbody tr th:only-of-type {\n",
       "        vertical-align: middle;\n",
       "    }\n",
       "\n",
       "    .dataframe tbody tr th {\n",
       "        vertical-align: top;\n",
       "    }\n",
       "\n",
       "    .dataframe thead th {\n",
       "        text-align: right;\n",
       "    }\n",
       "</style>\n",
       "<table border=\"1\" class=\"dataframe\">\n",
       "  <thead>\n",
       "    <tr style=\"text-align: right;\">\n",
       "      <th></th>\n",
       "      <th>Category</th>\n",
       "      <th>Sub_Category</th>\n",
       "      <th>Complaint</th>\n",
       "    </tr>\n",
       "  </thead>\n",
       "  <tbody>\n",
       "    <tr>\n",
       "      <th>0</th>\n",
       "      <td>Debt collection</td>\n",
       "      <td>Credit card debt</td>\n",
       "      <td>NaN</td>\n",
       "    </tr>\n",
       "    <tr>\n",
       "      <th>1</th>\n",
       "      <td>Debt collection</td>\n",
       "      <td>Credit card debt</td>\n",
       "      <td>Good morning my name is XXXX XXXX and I apprec...</td>\n",
       "    </tr>\n",
       "    <tr>\n",
       "      <th>2</th>\n",
       "      <td>Credit card or prepaid card</td>\n",
       "      <td>General-purpose credit card or charge card</td>\n",
       "      <td>I upgraded my XXXX XXXX card in XX/XX/2018 and...</td>\n",
       "    </tr>\n",
       "    <tr>\n",
       "      <th>3</th>\n",
       "      <td>Mortgage</td>\n",
       "      <td>Conventional home mortgage</td>\n",
       "      <td>NaN</td>\n",
       "    </tr>\n",
       "    <tr>\n",
       "      <th>4</th>\n",
       "      <td>Credit card or prepaid card</td>\n",
       "      <td>General-purpose credit card or charge card</td>\n",
       "      <td>NaN</td>\n",
       "    </tr>\n",
       "  </tbody>\n",
       "</table>\n",
       "</div>"
      ],
      "text/plain": [
       "                      Category                                Sub_Category  \\\n",
       "0              Debt collection                            Credit card debt   \n",
       "1              Debt collection                            Credit card debt   \n",
       "2  Credit card or prepaid card  General-purpose credit card or charge card   \n",
       "3                     Mortgage                  Conventional home mortgage   \n",
       "4  Credit card or prepaid card  General-purpose credit card or charge card   \n",
       "\n",
       "                                           Complaint  \n",
       "0                                                NaN  \n",
       "1  Good morning my name is XXXX XXXX and I apprec...  \n",
       "2  I upgraded my XXXX XXXX card in XX/XX/2018 and...  \n",
       "3                                                NaN  \n",
       "4                                                NaN  "
      ]
     },
     "execution_count": 91,
     "metadata": {},
     "output_type": "execute_result"
    }
   ],
   "source": [
    "complain_df.head()"
   ]
  },
  {
   "cell_type": "markdown",
   "id": "5b95bdba",
   "metadata": {},
   "source": [
    "#### *Observation: The dataype is object for Complaint column. Converting it to string datatype.There are 'XXX' in some complaints. Replacing it with ''.*"
   ]
  },
  {
   "cell_type": "code",
   "execution_count": 92,
   "id": "accaff94",
   "metadata": {},
   "outputs": [],
   "source": [
    "complain_df['Complaint']=complain_df['Complaint'].astype(str)\n",
    "complain_df['Complaint'] = complain_df['Complaint'].str.replace('X', '')"
   ]
  },
  {
   "cell_type": "code",
   "execution_count": 93,
   "id": "b6aeb71a",
   "metadata": {},
   "outputs": [],
   "source": [
    "import nltk, spacy, string"
   ]
  },
  {
   "cell_type": "code",
   "execution_count": 94,
   "id": "d68e2b6c",
   "metadata": {},
   "outputs": [],
   "source": [
    "# nlp = spacy.load('en_core_web_sm')"
   ]
  },
  {
   "cell_type": "code",
   "execution_count": 95,
   "id": "dc502f75",
   "metadata": {},
   "outputs": [],
   "source": [
    "import re\n",
    "#Cleaning Text- This function will convert text in lower case, removing text in square brackets, removing punctuations, removing words containing numbers\n",
    "def processtext(issue_df):\n",
    "    issue_df=issue_df.lower()\n",
    "    issue_df=re.sub(r'\\[.*?\\]',\"\",issue_df)\n",
    "    issue_df=re.sub(r'\\w*\\d\\w*',\"\",issue_df)\n",
    "    issue_df=re.sub(r'[%s]'% re.escape(string.punctuation),\"\",issue_df)\n",
    "    return issue_df.strip()\n",
    "\n",
    "complain_df['Complaints_Clean']=complain_df['Complaint'].apply(lambda x:processtext(x))\n"
   ]
  },
  {
   "cell_type": "code",
   "execution_count": 96,
   "id": "d5523247",
   "metadata": {},
   "outputs": [],
   "source": [
    "# # Function to create lemmatized text\n",
    "# def text_lemma(complaint):\n",
    "#     sent=[]\n",
    "#     doc=nlp(complaint)\n",
    "#     for word in doc:\n",
    "#         sent.append(word.lemma_)\n",
    "#     return \" \".join(sent)\n",
    "\n",
    "# complain_df['Complains_Lemmatized']= complain_df.apply(lambda x:text_lemma(x['Complaints_Clean']),axis=1)"
   ]
  },
  {
   "cell_type": "code",
   "execution_count": 97,
   "id": "f1e350ad",
   "metadata": {},
   "outputs": [
    {
     "data": {
      "text/html": [
       "<div>\n",
       "<style scoped>\n",
       "    .dataframe tbody tr th:only-of-type {\n",
       "        vertical-align: middle;\n",
       "    }\n",
       "\n",
       "    .dataframe tbody tr th {\n",
       "        vertical-align: top;\n",
       "    }\n",
       "\n",
       "    .dataframe thead th {\n",
       "        text-align: right;\n",
       "    }\n",
       "</style>\n",
       "<table border=\"1\" class=\"dataframe\">\n",
       "  <thead>\n",
       "    <tr style=\"text-align: right;\">\n",
       "      <th></th>\n",
       "      <th>Category</th>\n",
       "      <th>Sub_Category</th>\n",
       "      <th>Complaint</th>\n",
       "      <th>Complaints_Clean</th>\n",
       "    </tr>\n",
       "  </thead>\n",
       "  <tbody>\n",
       "    <tr>\n",
       "      <th>0</th>\n",
       "      <td>Debt collection</td>\n",
       "      <td>Credit card debt</td>\n",
       "      <td>nan</td>\n",
       "      <td>nan</td>\n",
       "    </tr>\n",
       "    <tr>\n",
       "      <th>1</th>\n",
       "      <td>Debt collection</td>\n",
       "      <td>Credit card debt</td>\n",
       "      <td>Good morning my name is   and I appreciate it ...</td>\n",
       "      <td>good morning my name is   and i appreciate it ...</td>\n",
       "    </tr>\n",
       "    <tr>\n",
       "      <th>2</th>\n",
       "      <td>Credit card or prepaid card</td>\n",
       "      <td>General-purpose credit card or charge card</td>\n",
       "      <td>I upgraded my   card in //2018 and was told by...</td>\n",
       "      <td>i upgraded my   card in  and was told by the a...</td>\n",
       "    </tr>\n",
       "    <tr>\n",
       "      <th>3</th>\n",
       "      <td>Mortgage</td>\n",
       "      <td>Conventional home mortgage</td>\n",
       "      <td>nan</td>\n",
       "      <td>nan</td>\n",
       "    </tr>\n",
       "    <tr>\n",
       "      <th>4</th>\n",
       "      <td>Credit card or prepaid card</td>\n",
       "      <td>General-purpose credit card or charge card</td>\n",
       "      <td>nan</td>\n",
       "      <td>nan</td>\n",
       "    </tr>\n",
       "    <tr>\n",
       "      <th>...</th>\n",
       "      <td>...</td>\n",
       "      <td>...</td>\n",
       "      <td>...</td>\n",
       "      <td>...</td>\n",
       "    </tr>\n",
       "    <tr>\n",
       "      <th>78307</th>\n",
       "      <td>Mortgage</td>\n",
       "      <td>Conventional home mortgage</td>\n",
       "      <td>nan</td>\n",
       "      <td>nan</td>\n",
       "    </tr>\n",
       "    <tr>\n",
       "      <th>78308</th>\n",
       "      <td>Checking or savings account</td>\n",
       "      <td>Checking account</td>\n",
       "      <td>nan</td>\n",
       "      <td>nan</td>\n",
       "    </tr>\n",
       "    <tr>\n",
       "      <th>78309</th>\n",
       "      <td>Credit card or prepaid card</td>\n",
       "      <td>General-purpose credit card or charge card</td>\n",
       "      <td>On Wednesday, // I called Chas, my   Visa Cred...</td>\n",
       "      <td>on wednesday  i called chas my   visa credit c...</td>\n",
       "    </tr>\n",
       "    <tr>\n",
       "      <th>78310</th>\n",
       "      <td>Checking or savings account</td>\n",
       "      <td>Checking account</td>\n",
       "      <td>I am not familiar with  pay and did not unders...</td>\n",
       "      <td>i am not familiar with  pay and did not unders...</td>\n",
       "    </tr>\n",
       "    <tr>\n",
       "      <th>78311</th>\n",
       "      <td>Credit card or prepaid card</td>\n",
       "      <td>General-purpose credit card or charge card</td>\n",
       "      <td>I have had flawless credit for 30 yrs. I've ha...</td>\n",
       "      <td>i have had flawless credit for  yrs ive had ch...</td>\n",
       "    </tr>\n",
       "  </tbody>\n",
       "</table>\n",
       "<p>67742 rows × 4 columns</p>\n",
       "</div>"
      ],
      "text/plain": [
       "                          Category  \\\n",
       "0                  Debt collection   \n",
       "1                  Debt collection   \n",
       "2      Credit card or prepaid card   \n",
       "3                         Mortgage   \n",
       "4      Credit card or prepaid card   \n",
       "...                            ...   \n",
       "78307                     Mortgage   \n",
       "78308  Checking or savings account   \n",
       "78309  Credit card or prepaid card   \n",
       "78310  Checking or savings account   \n",
       "78311  Credit card or prepaid card   \n",
       "\n",
       "                                     Sub_Category  \\\n",
       "0                                Credit card debt   \n",
       "1                                Credit card debt   \n",
       "2      General-purpose credit card or charge card   \n",
       "3                      Conventional home mortgage   \n",
       "4      General-purpose credit card or charge card   \n",
       "...                                           ...   \n",
       "78307                  Conventional home mortgage   \n",
       "78308                            Checking account   \n",
       "78309  General-purpose credit card or charge card   \n",
       "78310                            Checking account   \n",
       "78311  General-purpose credit card or charge card   \n",
       "\n",
       "                                               Complaint  \\\n",
       "0                                                    nan   \n",
       "1      Good morning my name is   and I appreciate it ...   \n",
       "2      I upgraded my   card in //2018 and was told by...   \n",
       "3                                                    nan   \n",
       "4                                                    nan   \n",
       "...                                                  ...   \n",
       "78307                                                nan   \n",
       "78308                                                nan   \n",
       "78309  On Wednesday, // I called Chas, my   Visa Cred...   \n",
       "78310  I am not familiar with  pay and did not unders...   \n",
       "78311  I have had flawless credit for 30 yrs. I've ha...   \n",
       "\n",
       "                                        Complaints_Clean  \n",
       "0                                                    nan  \n",
       "1      good morning my name is   and i appreciate it ...  \n",
       "2      i upgraded my   card in  and was told by the a...  \n",
       "3                                                    nan  \n",
       "4                                                    nan  \n",
       "...                                                  ...  \n",
       "78307                                                nan  \n",
       "78308                                                nan  \n",
       "78309  on wednesday  i called chas my   visa credit c...  \n",
       "78310  i am not familiar with  pay and did not unders...  \n",
       "78311  i have had flawless credit for  yrs ive had ch...  \n",
       "\n",
       "[67742 rows x 4 columns]"
      ]
     },
     "execution_count": 97,
     "metadata": {},
     "output_type": "execute_result"
    }
   ],
   "source": [
    "complain_df"
   ]
  },
  {
   "cell_type": "code",
   "execution_count": 98,
   "id": "e3e88779",
   "metadata": {},
   "outputs": [],
   "source": [
    "from gensim.parsing.preprocessing import remove_stopwords, strip_punctuation"
   ]
  },
  {
   "cell_type": "code",
   "execution_count": 99,
   "id": "80602a4e",
   "metadata": {},
   "outputs": [],
   "source": [
    "def text_lemma(texts):\n",
    "    # tokenization\n",
    "    texts = [re.findall(r'\\w+', line.lower()) for line in texts]\n",
    "    # remove stopwords\n",
    "    texts = [remove_stopwords(' '.join(line)).split() for line in texts]\n",
    "    # remove punctuation\n",
    "    texts = [strip_punctuation(' '.join(line)).split() for line in texts]\n",
    "    # remove words that are only one or two characters\n",
    "    texts = [[token for token in line if len(token) >2] for line in texts]\n",
    "    # remove numbers\n",
    "    texts = [[token for token in line if not token.isnumeric()] for line in texts]\n",
    "    # lemmatization\n",
    "    lemmatizer = WordNetLemmatizer()\n",
    "    texts = [[word for word in lemmatizer.lemmatize(' '.join(line), pos='v').split()] for line in texts]\n",
    "\n",
    "    return texts"
   ]
  },
  {
   "cell_type": "code",
   "execution_count": 101,
   "id": "8333a091",
   "metadata": {},
   "outputs": [],
   "source": [
    "complain_df['Complains_Lemmatized']= complain_df.apply(lambda x:text_lemma(x['Complaints_Clean']),axis=1)\n"
   ]
  },
  {
   "cell_type": "markdown",
   "id": "a294282a",
   "metadata": {},
   "source": [
    "## Vizualization of Issues"
   ]
  },
  {
   "cell_type": "code",
   "execution_count": 102,
   "id": "fb20669b",
   "metadata": {},
   "outputs": [
    {
     "data": {
      "text/plain": [
       "0                                             [[], [], []]\n",
       "1        [[], [], [], [], [], [], [], [], [], [], [], [...\n",
       "2        [[], [], [], [], [], [], [], [], [], [], [], [...\n",
       "3                                             [[], [], []]\n",
       "4                                             [[], [], []]\n",
       "                               ...                        \n",
       "78307                                         [[], [], []]\n",
       "78308                                         [[], [], []]\n",
       "78309    [[], [], [], [], [], [], [], [], [], [], [], [...\n",
       "78310    [[], [], [], [], [], [], [], [], [], [], [], [...\n",
       "78311    [[], [], [], [], [], [], [], [], [], [], [], [...\n",
       "Name: Complains_Lemmatized, Length: 67742, dtype: object"
      ]
     },
     "execution_count": 102,
     "metadata": {},
     "output_type": "execute_result"
    }
   ],
   "source": [
    "complain_df.Complains_Lemmatized"
   ]
  },
  {
   "cell_type": "code",
   "execution_count": 103,
   "id": "b3e3579a",
   "metadata": {},
   "outputs": [
    {
     "data": {
      "text/plain": [
       "<matplotlib.image.AxesImage at 0x204618e2760>"
      ]
     },
     "execution_count": 103,
     "metadata": {},
     "output_type": "execute_result"
    },
    {
     "data": {
      "text/plain": [
       "(-0.5, 399.5, 199.5, -0.5)"
      ]
     },
     "execution_count": 103,
     "metadata": {},
     "output_type": "execute_result"
    },
    {
     "data": {
      "image/png": "[encoded data removed]",
      "text/plain": [
       "<Figure size 432x288 with 1 Axes>"
      ]
     },
     "metadata": {
      "needs_background": "light"
     },
     "output_type": "display_data"
    }
   ],
   "source": [
    "#Word Cloud\n",
    "\n",
    "from wordcloud import WordCloud, STOPWORDS\n",
    "\n",
    "wordcloud= WordCloud(collocations = False, \n",
    "                     background_color = 'white', \n",
    "                     stopwords=set(STOPWORDS), \n",
    "                     max_words=40, \n",
    "                     max_font_size=40, \n",
    "                     random_state=42).generate(str(complain_df['Complains_Lemmatized']))\n",
    "\n",
    "fig=plt.figure(1)\n",
    "plt.imshow(wordcloud)\n",
    "plt.axis('off')\n",
    "plt.show()"
   ]
  },
  {
   "cell_type": "code",
   "execution_count": 104,
   "id": "478691d5",
   "metadata": {},
   "outputs": [],
   "source": [
    "# Creating a function to extract top ngrams(unigram/bigram/trigram) based on the function inputs\n",
    "def ngrams(text, n=None, ngram=(1,1)):\n",
    "  vec = CountVectorizer(stop_words='english', ngram_range=ngram).fit(text)\n",
    "  bagofwords = vec.transform(text)\n",
    "  sum_words = bagofwords.sum(axis=0)\n",
    "  words_frequency = [(word, sum_words[0, index]) for word, index in vec.vocabulary_.items()]\n",
    "  words_frequency = sorted(words_frequency, key = lambda x: x[1], reverse=True)\n",
    "  return words_frequency[:n]"
   ]
  },
  {
   "cell_type": "code",
   "execution_count": 105,
   "id": "ef249e23",
   "metadata": {},
   "outputs": [
    {
     "ename": "ValueError",
     "evalue": "setting an array element with a sequence",
     "output_type": "error",
     "traceback": [
      "\u001b[1;31m---------------------------------------------------------------------------\u001b[0m",
      "\u001b[1;31mValueError\u001b[0m                                Traceback (most recent call last)",
      "\u001b[1;32mC:\\Users\\SHRITI~1\\AppData\\Local\\Temp/ipykernel_76096/3740866682.py\u001b[0m in \u001b[0;36m<module>\u001b[1;34m\u001b[0m\n\u001b[1;32m----> 1\u001b[1;33m \u001b[0mtop_30words\u001b[0m \u001b[1;33m=\u001b[0m \u001b[0mngrams\u001b[0m\u001b[1;33m(\u001b[0m\u001b[0mcomplain_df\u001b[0m\u001b[1;33m[\u001b[0m\u001b[1;34m'Complains_Lemmatized'\u001b[0m\u001b[1;33m]\u001b[0m\u001b[1;33m.\u001b[0m\u001b[0mvalues\u001b[0m\u001b[1;33m.\u001b[0m\u001b[0mastype\u001b[0m\u001b[1;33m(\u001b[0m\u001b[1;34m'U'\u001b[0m\u001b[1;33m)\u001b[0m\u001b[1;33m,\u001b[0m \u001b[0mn\u001b[0m\u001b[1;33m=\u001b[0m\u001b[1;36m30\u001b[0m\u001b[1;33m,\u001b[0m \u001b[0mngram\u001b[0m\u001b[1;33m=\u001b[0m\u001b[1;33m(\u001b[0m\u001b[1;36m1\u001b[0m\u001b[1;33m,\u001b[0m\u001b[1;36m1\u001b[0m\u001b[1;33m)\u001b[0m\u001b[1;33m)\u001b[0m\u001b[1;33m\u001b[0m\u001b[1;33m\u001b[0m\u001b[0m\n\u001b[0m\u001b[0;32m      2\u001b[0m \u001b[0mdf_unigram\u001b[0m \u001b[1;33m=\u001b[0m \u001b[0mpd\u001b[0m\u001b[1;33m.\u001b[0m\u001b[0mDataFrame\u001b[0m\u001b[1;33m(\u001b[0m\u001b[0mtop_30words\u001b[0m\u001b[1;33m,\u001b[0m \u001b[0mcolumns\u001b[0m\u001b[1;33m=\u001b[0m\u001b[1;33m[\u001b[0m\u001b[1;34m'unigram'\u001b[0m\u001b[1;33m,\u001b[0m \u001b[1;34m'count'\u001b[0m\u001b[1;33m]\u001b[0m\u001b[1;33m)\u001b[0m\u001b[1;33m\u001b[0m\u001b[1;33m\u001b[0m\u001b[0m\n\u001b[0;32m      3\u001b[0m \u001b[0mdf_unigram\u001b[0m\u001b[1;33m\u001b[0m\u001b[1;33m\u001b[0m\u001b[0m\n",
      "\u001b[1;31mValueError\u001b[0m: setting an array element with a sequence"
     ]
    }
   ],
   "source": [
    "top_30words = ngrams(complain_df['Complains_Lemmatized'].values.astype('U'), n=30, ngram=(1,1))\n",
    "df_unigram = pd.DataFrame(top_30words, columns=['unigram', 'count'])\n",
    "df_unigram"
   ]
  },
  {
   "cell_type": "markdown",
   "id": "f0b1e5f2",
   "metadata": {},
   "source": [
    "## Vectorizing data and using NMF"
   ]
  },
  {
   "cell_type": "code",
   "execution_count": null,
   "id": "0b7577b3",
   "metadata": {},
   "outputs": [],
   "source": [
    "#TF-IDF\n",
    "tfidf = TfidfVectorizer(max_df=0.95, min_df=2, stop_words='english')"
   ]
  },
  {
   "cell_type": "code",
   "execution_count": null,
   "id": "925e9a66",
   "metadata": {},
   "outputs": [],
   "source": [
    "#Creating document term matrix\n",
    "doc_term_matrix = tfidf.fit_transform(complain_df['Complains_Lemmatized'])"
   ]
  },
  {
   "cell_type": "code",
   "execution_count": null,
   "id": "59525341",
   "metadata": {},
   "outputs": [],
   "source": [
    "from sklearn.decomposition import NMF"
   ]
  },
  {
   "cell_type": "code",
   "execution_count": null,
   "id": "a2afd1fc",
   "metadata": {},
   "outputs": [],
   "source": [
    "#Load nmf model with the n_components = 5\n",
    "num_topics = 5\n",
    "\n",
    "#keeping the random_state = 40\n",
    "nmf_model = NMF(n_components=num_topics, random_state=40)\n",
    "\n",
    "#NMF model\n",
    "nmf_model.fit(doc_term_matrix)\n",
    "len(tfidf.get_feature_names())"
   ]
  },
  {
   "cell_type": "code",
   "execution_count": null,
   "id": "0db97adf",
   "metadata": {},
   "outputs": [],
   "source": [
    "H1 = nmf.components_"
   ]
  },
  {
   "cell_type": "code",
   "execution_count": null,
   "id": "e913880b",
   "metadata": {},
   "outputs": [],
   "source": [
    "#Print the Top15 words for each of the topics\n",
    "words = np.array(tfidf.get_feature_names())\n",
    "topic_words = pd.DataFrame(np.zeros((num_topics, 15)), index=[f'Topic {i + 1}' for i in range(num_topics)],\n",
    "                           columns=[f'Word {i + 1}' for i in range(15)]).astype(str)\n",
    "for i in range(num_topics):\n",
    "    ix = H[i].argsort()[::-1][:15]\n",
    "    topic_words.iloc[i] = words[ix]\n",
    "\n",
    "topic_words"
   ]
  },
  {
   "cell_type": "markdown",
   "id": "faf3f7d3",
   "metadata": {},
   "source": [
    "#### *Observation: The below topics are apparent as main topics.**\n",
    "\n",
    "- **1.   Banking  Services\n",
    "- **2.   Card\n",
    "- **3.   Others\n",
    "- **4.   Fraudalent Reporting\n",
    "- **5.   Loans"
   ]
  },
  {
   "cell_type": "code",
   "execution_count": null,
   "id": "ba075651",
   "metadata": {},
   "outputs": [],
   "source": [
    "#Mapping topic names and Topics\n",
    "Topic_names = {0:\"Banking services\",1:\"Cards\", 2:\"Others\",3:\"Fraudalent Reporting\",4:\"Loans\"}\n",
    "\n",
    "#Map Topics with Topic Names\n",
    "complain_df['Topic_names'] = complain_df['Topic'].map(Topic_names)\n",
    "\n"
   ]
  },
  {
   "cell_type": "markdown",
   "id": "76f0d79b",
   "metadata": {},
   "source": [
    "## Training the model"
   ]
  },
  {
   "cell_type": "code",
   "execution_count": null,
   "id": "0ce4022d",
   "metadata": {},
   "outputs": [],
   "source": [
    "from sklearn.feature_extraction.text import CountVectorizer,TfidfTransformer\n",
    "# Import pickle to save and load the model\n",
    "import pickle"
   ]
  },
  {
   "cell_type": "code",
   "execution_count": null,
   "id": "98288ed3",
   "metadata": {},
   "outputs": [],
   "source": [
    "#Training dataset\n",
    "train_df=complain_df[[\"Complains_Lemmatized\",\"Topic\"]]\n",
    "\n",
    "#Count Vectorizer\n",
    "vect = CountVectorizer()\n",
    "X_train_cnt = vect.fit_transform(complain_df['Complains_Lemmatized'])\n",
    "# Save word vector\n",
    "pickle.dump(vect.vocabulary_, open(\"complain_count_vector.pkl\", \"wb\"))\n",
    "\n",
    "#TFIDF transformer\n",
    "tfidf_transformer = TfidfTransformer()\n",
    "X_train_tfidf = tfidf_transformer.fit_transform(X_train_cnt)\n",
    "# Save tfidf\n",
    "pickle.dump(tfidf_transformer, open('complain_tfidf.pkl', \"wb\"))"
   ]
  },
  {
   "cell_type": "code",
   "execution_count": null,
   "id": "8eb3d895",
   "metadata": {},
   "outputs": [],
   "source": [
    "## Test train split\n",
    "X_train, X_test, y_train, y_test = train_test_split(X_train_tfidf, train_data.Topic, test_size=0.20, random_state=42)"
   ]
  },
  {
   "cell_type": "code",
   "execution_count": null,
   "id": "6a4551f2",
   "metadata": {},
   "outputs": [],
   "source": [
    "# Multinomial Naive Bayes for classification\n",
    "clf = MultinomialNB().fit(X_train, y_train)"
   ]
  },
  {
   "cell_type": "code",
   "execution_count": null,
   "id": "b9f3d61b",
   "metadata": {},
   "outputs": [],
   "source": [
    "# Logistic regression model\n",
    "reg_models = LogisticRegression(random_state=44).fit(X_train,y_train)\n",
    "reg_models.score(X_test,y_test)"
   ]
  },
  {
   "cell_type": "code",
   "execution_count": null,
   "id": "cc8fd529",
   "metadata": {},
   "outputs": [],
   "source": [
    "# Decision tree classifier\n",
    "decision_tree_classifier =  DecisionTreeClassifier(random_state=42).fit(X_train, y_train)\n",
    "decision_tree_classifier.score(X_test,y_test)"
   ]
  },
  {
   "cell_type": "code",
   "execution_count": null,
   "id": "703c9ac0",
   "metadata": {},
   "outputs": [],
   "source": [
    "# Random forest classifier\n",
    "random_forest_classifier = RandomForestClassifier(random_state=42).fit(X_train, y_train)\n",
    "random_forest_classifier.score(X_test, y_test)"
   ]
  },
  {
   "cell_type": "code",
   "execution_count": null,
   "id": "7a55905f",
   "metadata": {},
   "outputs": [],
   "source": []
  },
  {
   "cell_type": "code",
   "execution_count": null,
   "id": "5d17b159",
   "metadata": {},
   "outputs": [],
   "source": []
  },
  {
   "cell_type": "code",
   "execution_count": null,
   "id": "59e611bb",
   "metadata": {},
   "outputs": [],
   "source": []
  }
 ],
 "metadata": {
  "kernelspec": {
   "display_name": "Python 3 (ipykernel)",
   "language": "python",
   "name": "python3"
  },
  "language_info": {
   "codemirror_mode": {
    "name": "ipython",
    "version": 3
   },
   "file_extension": ".py",
   "mimetype": "text/x-python",
   "name": "python",
   "nbconvert_exporter": "python",
   "pygments_lexer": "ipython3",
   "version": "3.9.7"
  }
 },
 "nbformat": 4,
 "nbformat_minor": 5
}
