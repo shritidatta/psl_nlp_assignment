{
 "cells": [
  {
   "cell_type": "markdown",
   "id": "1934155d",
   "metadata": {},
   "source": [
    "# Problem Statement"
   ]
  },
  {
   "cell_type": "markdown",
   "id": "401ed5cd",
   "metadata": {},
   "source": [
    "Prepare solution to build ticketing system there by using json file as your primary datasource (Text corpus with other metadata in it). \n",
    "Step 1: Group data into five categories namely Banking services, loans, Fraudalent reporting, Card, others.\n",
    "Step 2: From step 1 create labeled dataset and utilize it to train supervised model like logistic regression, decision tree or random forest.\n",
    "\n",
    "\n",
    "Above excercise should follow these steps -\n",
    "Load Data\n",
    "Text Preprocessing\n",
    "EDA\n",
    "Feature Extraction\n",
    "Topic Modelling (Unsupervised)\n",
    "Model building using Supervised learning\n",
    "Model Training and evaluation\n",
    "Inference"
   ]
  },
  {
   "attachments": {},
   "cell_type": "markdown",
   "id": "68ee7f7e",
   "metadata": {},
   "source": [
    "# Solutioning"
   ]
  },
  {
   "cell_type": "markdown",
   "id": "e185e1b0",
   "metadata": {},
   "source": [
    "We need to build a model that is able to classify Customer Complaints based on the products/services. By doing so you can segregate these tickets into their relevant categories.\n",
    "\n",
    "As data is not labeled, apply NMF to analyse patterns and classify the tickets into the following 5 clusters based on the products/services.\n",
    "\n",
    "- **Credit/Prepaid Card**\n",
    "- **Bank Account Services**\n",
    "- **Theft/Dispute Reporting**\n",
    "- **Mortgages/Loans**\n",
    "- **Others**"
   ]
  },
  {
   "cell_type": "markdown",
   "id": "50eddd88",
   "metadata": {},
   "source": [
    "# Approach"
   ]
  },
  {
   "cell_type": "markdown",
   "id": "9c0049b4",
   "metadata": {},
   "source": [
    "## Steps: \n",
    "* 1. Import libraries \n",
    "* 2. Perform EDA  \n",
    "* 3. Pre-process data \n",
    "* 4. Topic modelling \n",
    "* 5. Identify the n best topics \n",
    "* 6. Map complaints to topics \n",
    "* 7. Create labelled dataset for supervised learning \n",
    "* 8. Train-test split of data 9.Train model on various algorithm \n",
    "* 10. Select the best model \n",
    "* 11. Classify any new customer complaint ticket with the trained model"
   ]
  },
  {
   "cell_type": "markdown",
   "id": "4b1320dc",
   "metadata": {},
   "source": [
    "# Import Required Libraries and Modules"
   ]
  },
  {
   "cell_type": "code",
   "execution_count": 366,
   "id": "2f4cfa14",
   "metadata": {},
   "outputs": [],
   "source": [
    "# Builtin libraries\n",
    "import os\n",
    "import warnings\n",
    "import json\n",
    "import re\n",
    "import string\n",
    "import IPython as ipy\n",
    "import pickle\n",
    "import pprint\n",
    "\n",
    "# libraries for machine learning \n",
    "import numpy as np\n",
    "import pandas as pd\n",
    "# import matplotlib as mpl \n",
    "import seaborn as sns\n",
    "# import plotly\n",
    "import sklearn as skl \n",
    "import json\n",
    "\n",
    "# NLP libraries\n",
    "import nltk\n",
    "import spacy\n",
    "# import en_core_web_sm\n",
    "import textblob\n",
    "import wordcloud\n",
    "import gensim\n",
    "import string"
   ]
  },
  {
   "cell_type": "code",
   "execution_count": 367,
   "id": "bc7096cf",
   "metadata": {},
   "outputs": [],
   "source": [
    "warnings.filterwarnings(action='ignore')"
   ]
  },
  {
   "cell_type": "code",
   "execution_count": 368,
   "id": "a84c06e5",
   "metadata": {},
   "outputs": [],
   "source": [
    "from IPython.display import display\n",
    "from IPython.core.interactiveshell import InteractiveShell\n",
    "InteractiveShell.ast_node_interactivity = 'all'\n",
    "\n",
    "from matplotlib import pyplot as plt \n",
    "\n",
    "from sklearn.model_selection import train_test_split as tts \n",
    "from sklearn.linear_model import LogisticRegression \n",
    "from sklearn.naive_bayes import MultinomialNB\n",
    "from sklearn.tree import DecisionTreeClassifier \n",
    "from sklearn.ensemble import RandomForestClassifier\n",
    "from sklearn.feature_extraction.text import CountVectorizer, TfidfVectorizer, TfidfTransformer \n",
    "from sklearn.metrics import confusion_matrix, f1_score, classification_report\n",
    "from sklearn import decomposition as decomp\n",
    "from sklearn.model_selection import GridSearchCV\n",
    "from sklearn.model_selection import train_test_split\n",
    "\n",
    "from textblob import TextBlob\n",
    "from wordcloud import WordCloud, STOPWORDS, ImageColorGenerator\n",
    "from nltk.corpus import stopwords\n",
    "from nltk.stem import WordNetLemmatizer\n",
    "\n",
    "from gensim.corpora.dictionary import Dictionary\n",
    "from gensim.models.nmf import Nmf\n",
    "from gensim.models import nmf, CoherenceModel \n",
    "from gensim.models.coherencemodel import CoherenceModel\n",
    "from operator import itemgetter"
   ]
  },
  {
   "cell_type": "code",
   "execution_count": 370,
   "id": "8e33a956",
   "metadata": {},
   "outputs": [],
   "source": [
    "# !python -m spacy download en_core_web_sm\n",
    "nlp = spacy.load('en_core_web_sm')"
   ]
  },
  {
   "cell_type": "markdown",
   "id": "0bfe3ded",
   "metadata": {},
   "source": [
    "# Loading Input (JSON) Data as DataFrame"
   ]
  },
  {
   "cell_type": "code",
   "execution_count": 371,
   "id": "f6550f84",
   "metadata": {},
   "outputs": [
    {
     "data": {
      "text/html": [
       "<div>\n",
       "<style scoped>\n",
       "    .dataframe tbody tr th:only-of-type {\n",
       "        vertical-align: middle;\n",
       "    }\n",
       "\n",
       "    .dataframe tbody tr th {\n",
       "        vertical-align: top;\n",
       "    }\n",
       "\n",
       "    .dataframe thead th {\n",
       "        text-align: right;\n",
       "    }\n",
       "</style>\n",
       "<table border=\"1\" class=\"dataframe\">\n",
       "  <thead>\n",
       "    <tr style=\"text-align: right;\">\n",
       "      <th></th>\n",
       "      <th>_index</th>\n",
       "      <th>_type</th>\n",
       "      <th>_id</th>\n",
       "      <th>_score</th>\n",
       "      <th>_source.tags</th>\n",
       "      <th>_source.zip_code</th>\n",
       "      <th>_source.complaint_id</th>\n",
       "      <th>_source.issue</th>\n",
       "      <th>_source.date_received</th>\n",
       "      <th>_source.state</th>\n",
       "      <th>...</th>\n",
       "      <th>_source.company_response</th>\n",
       "      <th>_source.company</th>\n",
       "      <th>_source.submitted_via</th>\n",
       "      <th>_source.date_sent_to_company</th>\n",
       "      <th>_source.company_public_response</th>\n",
       "      <th>_source.sub_product</th>\n",
       "      <th>_source.timely</th>\n",
       "      <th>_source.complaint_what_happened</th>\n",
       "      <th>_source.sub_issue</th>\n",
       "      <th>_source.consumer_consent_provided</th>\n",
       "    </tr>\n",
       "  </thead>\n",
       "  <tbody>\n",
       "    <tr>\n",
       "      <th>0</th>\n",
       "      <td>complaint-public-v2</td>\n",
       "      <td>complaint</td>\n",
       "      <td>3211475</td>\n",
       "      <td>0.0</td>\n",
       "      <td>None</td>\n",
       "      <td>90301</td>\n",
       "      <td>3211475</td>\n",
       "      <td>Attempts to collect debt not owed</td>\n",
       "      <td>2019-04-13T12:00:00-05:00</td>\n",
       "      <td>CA</td>\n",
       "      <td>...</td>\n",
       "      <td>Closed with explanation</td>\n",
       "      <td>JPMORGAN CHASE &amp; CO.</td>\n",
       "      <td>Web</td>\n",
       "      <td>2019-04-13T12:00:00-05:00</td>\n",
       "      <td>None</td>\n",
       "      <td>Credit card debt</td>\n",
       "      <td>Yes</td>\n",
       "      <td></td>\n",
       "      <td>Debt is not yours</td>\n",
       "      <td>Consent not provided</td>\n",
       "    </tr>\n",
       "    <tr>\n",
       "      <th>1</th>\n",
       "      <td>complaint-public-v2</td>\n",
       "      <td>complaint</td>\n",
       "      <td>3229299</td>\n",
       "      <td>0.0</td>\n",
       "      <td>Servicemember</td>\n",
       "      <td>319XX</td>\n",
       "      <td>3229299</td>\n",
       "      <td>Written notification about debt</td>\n",
       "      <td>2019-05-01T12:00:00-05:00</td>\n",
       "      <td>GA</td>\n",
       "      <td>...</td>\n",
       "      <td>Closed with explanation</td>\n",
       "      <td>JPMORGAN CHASE &amp; CO.</td>\n",
       "      <td>Web</td>\n",
       "      <td>2019-05-01T12:00:00-05:00</td>\n",
       "      <td>None</td>\n",
       "      <td>Credit card debt</td>\n",
       "      <td>Yes</td>\n",
       "      <td>Good morning my name is XXXX XXXX and I apprec...</td>\n",
       "      <td>Didn't receive enough information to verify debt</td>\n",
       "      <td>Consent provided</td>\n",
       "    </tr>\n",
       "    <tr>\n",
       "      <th>2</th>\n",
       "      <td>complaint-public-v2</td>\n",
       "      <td>complaint</td>\n",
       "      <td>3199379</td>\n",
       "      <td>0.0</td>\n",
       "      <td>None</td>\n",
       "      <td>77069</td>\n",
       "      <td>3199379</td>\n",
       "      <td>Other features, terms, or problems</td>\n",
       "      <td>2019-04-02T12:00:00-05:00</td>\n",
       "      <td>TX</td>\n",
       "      <td>...</td>\n",
       "      <td>Closed with explanation</td>\n",
       "      <td>JPMORGAN CHASE &amp; CO.</td>\n",
       "      <td>Web</td>\n",
       "      <td>2019-04-02T12:00:00-05:00</td>\n",
       "      <td>None</td>\n",
       "      <td>General-purpose credit card or charge card</td>\n",
       "      <td>Yes</td>\n",
       "      <td>I upgraded my XXXX XXXX card in XX/XX/2018 and...</td>\n",
       "      <td>Problem with rewards from credit card</td>\n",
       "      <td>Consent provided</td>\n",
       "    </tr>\n",
       "  </tbody>\n",
       "</table>\n",
       "<p>3 rows × 22 columns</p>\n",
       "</div>"
      ],
      "text/plain": [
       "                _index      _type      _id  _score   _source.tags  \\\n",
       "0  complaint-public-v2  complaint  3211475     0.0           None   \n",
       "1  complaint-public-v2  complaint  3229299     0.0  Servicemember   \n",
       "2  complaint-public-v2  complaint  3199379     0.0           None   \n",
       "\n",
       "  _source.zip_code _source.complaint_id                       _source.issue  \\\n",
       "0            90301              3211475   Attempts to collect debt not owed   \n",
       "1            319XX              3229299     Written notification about debt   \n",
       "2            77069              3199379  Other features, terms, or problems   \n",
       "\n",
       "       _source.date_received _source.state  ... _source.company_response  \\\n",
       "0  2019-04-13T12:00:00-05:00            CA  ...  Closed with explanation   \n",
       "1  2019-05-01T12:00:00-05:00            GA  ...  Closed with explanation   \n",
       "2  2019-04-02T12:00:00-05:00            TX  ...  Closed with explanation   \n",
       "\n",
       "        _source.company _source.submitted_via _source.date_sent_to_company  \\\n",
       "0  JPMORGAN CHASE & CO.                   Web    2019-04-13T12:00:00-05:00   \n",
       "1  JPMORGAN CHASE & CO.                   Web    2019-05-01T12:00:00-05:00   \n",
       "2  JPMORGAN CHASE & CO.                   Web    2019-04-02T12:00:00-05:00   \n",
       "\n",
       "  _source.company_public_response                         _source.sub_product  \\\n",
       "0                            None                            Credit card debt   \n",
       "1                            None                            Credit card debt   \n",
       "2                            None  General-purpose credit card or charge card   \n",
       "\n",
       "  _source.timely                    _source.complaint_what_happened  \\\n",
       "0            Yes                                                      \n",
       "1            Yes  Good morning my name is XXXX XXXX and I apprec...   \n",
       "2            Yes  I upgraded my XXXX XXXX card in XX/XX/2018 and...   \n",
       "\n",
       "                                  _source.sub_issue  \\\n",
       "0                                 Debt is not yours   \n",
       "1  Didn't receive enough information to verify debt   \n",
       "2             Problem with rewards from credit card   \n",
       "\n",
       "  _source.consumer_consent_provided  \n",
       "0              Consent not provided  \n",
       "1                  Consent provided  \n",
       "2                  Consent provided  \n",
       "\n",
       "[3 rows x 22 columns]"
      ]
     },
     "execution_count": 371,
     "metadata": {},
     "output_type": "execute_result"
    }
   ],
   "source": [
    "with open(\"./Client_data.json\") as f_handle:\n",
    "    input_data = json.load(f_handle)\n",
    "input_df = pd.json_normalize(input_data)\n",
    "input_df.head(3)"
   ]
  },
  {
   "cell_type": "markdown",
   "id": "dca4d56c",
   "metadata": {},
   "source": [
    "# Text Pre-processing"
   ]
  },
  {
   "cell_type": "markdown",
   "id": "8f7aabf7",
   "metadata": {},
   "source": [
    "Steps:\n",
    "\n",
    "* Remove blanks\n",
    "* Lowecase text \n",
    "* Remove square brackets\n",
    "* Remove punctuation\n",
    "* Remove words containing numbers\n",
    "* Lemmatize texts\n",
    "* POS tagging -extract relevant words\n"
   ]
  },
  {
   "cell_type": "code",
   "execution_count": 372,
   "id": "af92603d",
   "metadata": {},
   "outputs": [
    {
     "data": {
      "text/plain": [
       "(78313, 22)"
      ]
     },
     "execution_count": 372,
     "metadata": {},
     "output_type": "execute_result"
    }
   ],
   "source": [
    "#Size of the dataset\n",
    "input_df.shape"
   ]
  },
  {
   "cell_type": "code",
   "execution_count": 373,
   "id": "9bfc1d36",
   "metadata": {},
   "outputs": [
    {
     "name": "stdout",
     "output_type": "stream",
     "text": [
      "<class 'pandas.core.frame.DataFrame'>\n",
      "RangeIndex: 78313 entries, 0 to 78312\n",
      "Data columns (total 22 columns):\n",
      " #   Column                             Non-Null Count  Dtype  \n",
      "---  ------                             --------------  -----  \n",
      " 0   _index                             78313 non-null  object \n",
      " 1   _type                              78313 non-null  object \n",
      " 2   _id                                78313 non-null  object \n",
      " 3   _score                             78313 non-null  float64\n",
      " 4   _source.tags                       10900 non-null  object \n",
      " 5   _source.zip_code                   71556 non-null  object \n",
      " 6   _source.complaint_id               78313 non-null  object \n",
      " 7   _source.issue                      78313 non-null  object \n",
      " 8   _source.date_received              78313 non-null  object \n",
      " 9   _source.state                      76322 non-null  object \n",
      " 10  _source.consumer_disputed          78313 non-null  object \n",
      " 11  _source.product                    78313 non-null  object \n",
      " 12  _source.company_response           78313 non-null  object \n",
      " 13  _source.company                    78313 non-null  object \n",
      " 14  _source.submitted_via              78313 non-null  object \n",
      " 15  _source.date_sent_to_company       78313 non-null  object \n",
      " 16  _source.company_public_response    4 non-null      object \n",
      " 17  _source.sub_product                67742 non-null  object \n",
      " 18  _source.timely                     78313 non-null  object \n",
      " 19  _source.complaint_what_happened    78313 non-null  object \n",
      " 20  _source.sub_issue                  32016 non-null  object \n",
      " 21  _source.consumer_consent_provided  77305 non-null  object \n",
      "dtypes: float64(1), object(21)\n",
      "memory usage: 13.1+ MB\n"
     ]
    }
   ],
   "source": [
    "#Information about the dataframe (column names,column length, datatypes and if they contain null records)\n",
    "input_df.info()"
   ]
  },
  {
   "cell_type": "markdown",
   "id": "7ccb69ee",
   "metadata": {},
   "source": [
    "#### *Observation: We see non-null values for every column. Column '_source.company_public_response'  has only 4 records so can be ignored for further exploration.*"
   ]
  },
  {
   "cell_type": "code",
   "execution_count": 374,
   "id": "5373e4e5",
   "metadata": {},
   "outputs": [
    {
     "data": {
      "text/plain": [
       "Index(['_index', '_type', '_id', '_score', '_source.tags', '_source.zip_code',\n",
       "       '_source.complaint_id', '_source.issue', '_source.date_received',\n",
       "       '_source.state', '_source.consumer_disputed', '_source.product',\n",
       "       '_source.company_response', '_source.company', '_source.submitted_via',\n",
       "       '_source.date_sent_to_company', '_source.company_public_response',\n",
       "       '_source.sub_product', '_source.timely',\n",
       "       '_source.complaint_what_happened', '_source.sub_issue',\n",
       "       '_source.consumer_consent_provided'],\n",
       "      dtype='object')"
      ]
     },
     "execution_count": 374,
     "metadata": {},
     "output_type": "execute_result"
    }
   ],
   "source": [
    "input_df.columns"
   ]
  },
  {
   "cell_type": "code",
   "execution_count": 375,
   "id": "53e79c1a",
   "metadata": {},
   "outputs": [
    {
     "data": {
      "text/plain": [
       "(78313, 3)"
      ]
     },
     "execution_count": 375,
     "metadata": {},
     "output_type": "execute_result"
    }
   ],
   "source": [
    "#Choosing only the necessary columns - '_source.product','_source.sub_product','_source.complaint_what_happened' from source dataframe\n",
    "\n",
    "complain_df = input_df[['_source.product','_source.sub_product','_source.complaint_what_happened']]\n",
    "complain_df.shape"
   ]
  },
  {
   "cell_type": "code",
   "execution_count": 376,
   "id": "661da4d0",
   "metadata": {},
   "outputs": [
    {
     "name": "stdout",
     "output_type": "stream",
     "text": [
      "<class 'pandas.core.frame.DataFrame'>\n",
      "RangeIndex: 78313 entries, 0 to 78312\n",
      "Data columns (total 3 columns):\n",
      " #   Column        Non-Null Count  Dtype \n",
      "---  ------        --------------  ----- \n",
      " 0   Category      78313 non-null  object\n",
      " 1   Sub_Category  67742 non-null  object\n",
      " 2   Complaint     78313 non-null  object\n",
      "dtypes: object(3)\n",
      "memory usage: 1.8+ MB\n"
     ]
    }
   ],
   "source": [
    "#Renaming the columns\n",
    "\n",
    "complain_df = complain_df.rename(columns={'_source.complaint_what_happened': 'Complaint', '_source.product': 'Category','_source.sub_product': 'Sub_Category' })\n",
    "complain_df.info()"
   ]
  },
  {
   "cell_type": "code",
   "execution_count": 377,
   "id": "37577d6f",
   "metadata": {},
   "outputs": [
    {
     "data": {
      "text/html": [
       "<div>\n",
       "<style scoped>\n",
       "    .dataframe tbody tr th:only-of-type {\n",
       "        vertical-align: middle;\n",
       "    }\n",
       "\n",
       "    .dataframe tbody tr th {\n",
       "        vertical-align: top;\n",
       "    }\n",
       "\n",
       "    .dataframe thead th {\n",
       "        text-align: right;\n",
       "    }\n",
       "</style>\n",
       "<table border=\"1\" class=\"dataframe\">\n",
       "  <thead>\n",
       "    <tr style=\"text-align: right;\">\n",
       "      <th></th>\n",
       "      <th>Category</th>\n",
       "      <th>Sub_Category</th>\n",
       "      <th>Complaint</th>\n",
       "    </tr>\n",
       "  </thead>\n",
       "  <tbody>\n",
       "    <tr>\n",
       "      <th>0</th>\n",
       "      <td>Debt collection</td>\n",
       "      <td>Credit card debt</td>\n",
       "      <td></td>\n",
       "    </tr>\n",
       "    <tr>\n",
       "      <th>1</th>\n",
       "      <td>Debt collection</td>\n",
       "      <td>Credit card debt</td>\n",
       "      <td>Good morning my name is XXXX XXXX and I apprec...</td>\n",
       "    </tr>\n",
       "    <tr>\n",
       "      <th>2</th>\n",
       "      <td>Credit card or prepaid card</td>\n",
       "      <td>General-purpose credit card or charge card</td>\n",
       "      <td>I upgraded my XXXX XXXX card in XX/XX/2018 and...</td>\n",
       "    </tr>\n",
       "    <tr>\n",
       "      <th>3</th>\n",
       "      <td>Mortgage</td>\n",
       "      <td>Conventional home mortgage</td>\n",
       "      <td></td>\n",
       "    </tr>\n",
       "    <tr>\n",
       "      <th>4</th>\n",
       "      <td>Credit card or prepaid card</td>\n",
       "      <td>General-purpose credit card or charge card</td>\n",
       "      <td></td>\n",
       "    </tr>\n",
       "  </tbody>\n",
       "</table>\n",
       "</div>"
      ],
      "text/plain": [
       "                      Category                                Sub_Category  \\\n",
       "0              Debt collection                            Credit card debt   \n",
       "1              Debt collection                            Credit card debt   \n",
       "2  Credit card or prepaid card  General-purpose credit card or charge card   \n",
       "3                     Mortgage                  Conventional home mortgage   \n",
       "4  Credit card or prepaid card  General-purpose credit card or charge card   \n",
       "\n",
       "                                           Complaint  \n",
       "0                                                     \n",
       "1  Good morning my name is XXXX XXXX and I apprec...  \n",
       "2  I upgraded my XXXX XXXX card in XX/XX/2018 and...  \n",
       "3                                                     \n",
       "4                                                     "
      ]
     },
     "execution_count": 377,
     "metadata": {},
     "output_type": "execute_result"
    }
   ],
   "source": [
    "complain_df.head()"
   ]
  },
  {
   "cell_type": "code",
   "execution_count": 378,
   "id": "461f51e7",
   "metadata": {},
   "outputs": [
    {
     "data": {
      "text/html": [
       "<div>\n",
       "<style scoped>\n",
       "    .dataframe tbody tr th:only-of-type {\n",
       "        vertical-align: middle;\n",
       "    }\n",
       "\n",
       "    .dataframe tbody tr th {\n",
       "        vertical-align: top;\n",
       "    }\n",
       "\n",
       "    .dataframe thead th {\n",
       "        text-align: right;\n",
       "    }\n",
       "</style>\n",
       "<table border=\"1\" class=\"dataframe\">\n",
       "  <thead>\n",
       "    <tr style=\"text-align: right;\">\n",
       "      <th></th>\n",
       "      <th>Category</th>\n",
       "      <th>Complaint</th>\n",
       "    </tr>\n",
       "  </thead>\n",
       "  <tbody>\n",
       "    <tr>\n",
       "      <th>0</th>\n",
       "      <td>Debt collection+Credit card debt</td>\n",
       "      <td></td>\n",
       "    </tr>\n",
       "    <tr>\n",
       "      <th>1</th>\n",
       "      <td>Debt collection+Credit card debt</td>\n",
       "      <td>Good morning my name is XXXX XXXX and I apprec...</td>\n",
       "    </tr>\n",
       "    <tr>\n",
       "      <th>2</th>\n",
       "      <td>Credit card or prepaid card+General-purpose cr...</td>\n",
       "      <td>I upgraded my XXXX XXXX card in XX/XX/2018 and...</td>\n",
       "    </tr>\n",
       "    <tr>\n",
       "      <th>3</th>\n",
       "      <td>Mortgage+Conventional home mortgage</td>\n",
       "      <td></td>\n",
       "    </tr>\n",
       "    <tr>\n",
       "      <th>4</th>\n",
       "      <td>Credit card or prepaid card+General-purpose cr...</td>\n",
       "      <td></td>\n",
       "    </tr>\n",
       "  </tbody>\n",
       "</table>\n",
       "</div>"
      ],
      "text/plain": [
       "                                            Category  \\\n",
       "0                   Debt collection+Credit card debt   \n",
       "1                   Debt collection+Credit card debt   \n",
       "2  Credit card or prepaid card+General-purpose cr...   \n",
       "3                Mortgage+Conventional home mortgage   \n",
       "4  Credit card or prepaid card+General-purpose cr...   \n",
       "\n",
       "                                           Complaint  \n",
       "0                                                     \n",
       "1  Good morning my name is XXXX XXXX and I apprec...  \n",
       "2  I upgraded my XXXX XXXX card in XX/XX/2018 and...  \n",
       "3                                                     \n",
       "4                                                     "
      ]
     },
     "execution_count": 378,
     "metadata": {},
     "output_type": "execute_result"
    }
   ],
   "source": [
    "# merging the category and sub-category columns\n",
    "complain_df['Category'] = complain_df['Category'] + '+' + complain_df['Sub_Category']\n",
    "complain_df1 = complain_df.copy()\n",
    "complain_df = complain_df.drop(['Sub_Category'],axis=1)\n",
    "complain_df.head()"
   ]
  },
  {
   "cell_type": "markdown",
   "id": "5c11a862",
   "metadata": {},
   "source": [
    "#### *Observation: For 'Complaint' column - There are a few records with missing values. We will drop them. We will replace null values with nan.*"
   ]
  },
  {
   "cell_type": "code",
   "execution_count": 380,
   "id": "c4af14e4",
   "metadata": {},
   "outputs": [
    {
     "data": {
      "text/plain": [
       "57241"
      ]
     },
     "execution_count": 380,
     "metadata": {},
     "output_type": "execute_result"
    }
   ],
   "source": [
    "# finding out the number of empty strings in complaint column\n",
    "len(complain_df[complain_df['Complaint'] == ''])"
   ]
  },
  {
   "cell_type": "code",
   "execution_count": 381,
   "id": "6bc43985",
   "metadata": {},
   "outputs": [
    {
     "data": {
      "text/plain": [
       "57241"
      ]
     },
     "execution_count": 381,
     "metadata": {},
     "output_type": "execute_result"
    }
   ],
   "source": [
    "#Replacing the empty comments with Nan\n",
    "complain_df[complain_df['Complaint'] == ''] = np.nan\n",
    "complain_df['Complaint'].isnull().sum()"
   ]
  },
  {
   "cell_type": "code",
   "execution_count": 382,
   "id": "6ae014b2",
   "metadata": {},
   "outputs": [
    {
     "data": {
      "text/plain": [
       "0"
      ]
     },
     "execution_count": 382,
     "metadata": {},
     "output_type": "execute_result"
    }
   ],
   "source": [
    "# Dropping the columns with null values\n",
    "complain_df = complain_df[~complain_df.Complaint.isnull()]\n",
    "complain_df['Complaint'].isnull().sum()"
   ]
  },
  {
   "cell_type": "code",
   "execution_count": 383,
   "id": "2d5c879b",
   "metadata": {},
   "outputs": [
    {
     "data": {
      "text/plain": [
       "(18963, 2)"
      ]
     },
     "execution_count": 383,
     "metadata": {},
     "output_type": "execute_result"
    }
   ],
   "source": [
    "#Dropping missing values\n",
    "complain_df.dropna(inplace=True)\n",
    "complain_df.shape"
   ]
  },
  {
   "cell_type": "code",
   "execution_count": 384,
   "id": "8958b03e",
   "metadata": {},
   "outputs": [
    {
     "data": {
      "text/html": [
       "<div>\n",
       "<style scoped>\n",
       "    .dataframe tbody tr th:only-of-type {\n",
       "        vertical-align: middle;\n",
       "    }\n",
       "\n",
       "    .dataframe tbody tr th {\n",
       "        vertical-align: top;\n",
       "    }\n",
       "\n",
       "    .dataframe thead th {\n",
       "        text-align: right;\n",
       "    }\n",
       "</style>\n",
       "<table border=\"1\" class=\"dataframe\">\n",
       "  <thead>\n",
       "    <tr style=\"text-align: right;\">\n",
       "      <th></th>\n",
       "      <th>Category</th>\n",
       "      <th>Complaint</th>\n",
       "    </tr>\n",
       "  </thead>\n",
       "  <tbody>\n",
       "    <tr>\n",
       "      <th>1</th>\n",
       "      <td>Debt collection+Credit card debt</td>\n",
       "      <td>Good morning my name is XXXX XXXX and I apprec...</td>\n",
       "    </tr>\n",
       "    <tr>\n",
       "      <th>2</th>\n",
       "      <td>Credit card or prepaid card+General-purpose cr...</td>\n",
       "      <td>I upgraded my XXXX XXXX card in XX/XX/2018 and...</td>\n",
       "    </tr>\n",
       "    <tr>\n",
       "      <th>10</th>\n",
       "      <td>Credit reporting, credit repair services, or o...</td>\n",
       "      <td>Chase Card was reported on XX/XX/2019. However...</td>\n",
       "    </tr>\n",
       "    <tr>\n",
       "      <th>11</th>\n",
       "      <td>Credit reporting, credit repair services, or o...</td>\n",
       "      <td>On XX/XX/2018, while trying to book a XXXX  XX...</td>\n",
       "    </tr>\n",
       "    <tr>\n",
       "      <th>14</th>\n",
       "      <td>Checking or savings account+Checking account</td>\n",
       "      <td>my grand son give me check for {$1600.00} i de...</td>\n",
       "    </tr>\n",
       "  </tbody>\n",
       "</table>\n",
       "</div>"
      ],
      "text/plain": [
       "                                             Category  \\\n",
       "1                    Debt collection+Credit card debt   \n",
       "2   Credit card or prepaid card+General-purpose cr...   \n",
       "10  Credit reporting, credit repair services, or o...   \n",
       "11  Credit reporting, credit repair services, or o...   \n",
       "14       Checking or savings account+Checking account   \n",
       "\n",
       "                                            Complaint  \n",
       "1   Good morning my name is XXXX XXXX and I apprec...  \n",
       "2   I upgraded my XXXX XXXX card in XX/XX/2018 and...  \n",
       "10  Chase Card was reported on XX/XX/2019. However...  \n",
       "11  On XX/XX/2018, while trying to book a XXXX  XX...  \n",
       "14  my grand son give me check for {$1600.00} i de...  "
      ]
     },
     "execution_count": 384,
     "metadata": {},
     "output_type": "execute_result"
    }
   ],
   "source": [
    "complain_df.head()"
   ]
  },
  {
   "cell_type": "markdown",
   "id": "5b95bdba",
   "metadata": {},
   "source": [
    "#### *Observation: The dataype is object for Complaint column. Converting it to string datatype.There are 'XXX' in some complaints. Replacing it with ''.*"
   ]
  },
  {
   "cell_type": "code",
   "execution_count": 385,
   "id": "accaff94",
   "metadata": {},
   "outputs": [],
   "source": [
    "complain_df['Complaint']=complain_df['Complaint'].astype(str)\n",
    "complain_df['Complaint'] = complain_df['Complaint'].str.replace('X', '')"
   ]
  },
  {
   "cell_type": "code",
   "execution_count": 388,
   "id": "dc502f75",
   "metadata": {},
   "outputs": [],
   "source": [
    "#Cleaning Text- This function will convert text in lower case, removing text in square brackets, removing punctuations, removing words containing numbers\n",
    "def processtext(issue_df):\n",
    "    issue_df=issue_df.lower()\n",
    "    issue_df=re.sub(r'\\[.*?\\]',\"\",issue_df)\n",
    "    issue_df=re.sub(r'\\w*\\d\\w*',\"\",issue_df)\n",
    "    issue_df=re.sub(r'[%s]'% re.escape(string.punctuation),\"\",issue_df)\n",
    "    return issue_df.strip()\n",
    "\n",
    "complain_df['Complaints_Clean']=complain_df['Complaint'].apply(lambda x:processtext(x))\n"
   ]
  },
  {
   "cell_type": "code",
   "execution_count": 389,
   "id": "d5523247",
   "metadata": {},
   "outputs": [],
   "source": [
    "# Function to create lemmatized text\n",
    "def text_lemma(complaint):\n",
    "    sent=[]\n",
    "    doc=nlp(complaint)\n",
    "    for word in doc:\n",
    "        sent.append(word.lemma_)\n",
    "    return \" \".join(sent)\n",
    "\n",
    "complain_df['Complains_Lemmatized']= complain_df.apply(lambda x:text_lemma(x['Complaints_Clean']),axis=1)"
   ]
  },
  {
   "cell_type": "code",
   "execution_count": 390,
   "id": "dcb39a3f",
   "metadata": {},
   "outputs": [
    {
     "data": {
      "text/html": [
       "<div>\n",
       "<style scoped>\n",
       "    .dataframe tbody tr th:only-of-type {\n",
       "        vertical-align: middle;\n",
       "    }\n",
       "\n",
       "    .dataframe tbody tr th {\n",
       "        vertical-align: top;\n",
       "    }\n",
       "\n",
       "    .dataframe thead th {\n",
       "        text-align: right;\n",
       "    }\n",
       "</style>\n",
       "<table border=\"1\" class=\"dataframe\">\n",
       "  <thead>\n",
       "    <tr style=\"text-align: right;\">\n",
       "      <th></th>\n",
       "      <th>Category</th>\n",
       "      <th>Complaint</th>\n",
       "      <th>Complaints_Clean</th>\n",
       "      <th>Complains_Lemmatized</th>\n",
       "    </tr>\n",
       "  </thead>\n",
       "  <tbody>\n",
       "    <tr>\n",
       "      <th>1</th>\n",
       "      <td>Debt collection+Credit card debt</td>\n",
       "      <td>Good morning my name is   and I appreciate it ...</td>\n",
       "      <td>good morning my name is   and i appreciate it ...</td>\n",
       "      <td>good morning my name be    and I appreciate it...</td>\n",
       "    </tr>\n",
       "    <tr>\n",
       "      <th>2</th>\n",
       "      <td>Credit card or prepaid card+General-purpose cr...</td>\n",
       "      <td>I upgraded my   card in //2018 and was told by...</td>\n",
       "      <td>i upgraded my   card in  and was told by the a...</td>\n",
       "      <td>I upgrade my    card in   and be tell by the a...</td>\n",
       "    </tr>\n",
       "    <tr>\n",
       "      <th>10</th>\n",
       "      <td>Credit reporting, credit repair services, or o...</td>\n",
       "      <td>Chase Card was reported on //2019. However, fr...</td>\n",
       "      <td>chase card was reported on  however fraudulent...</td>\n",
       "      <td>chase card be report on   however fraudulent a...</td>\n",
       "    </tr>\n",
       "    <tr>\n",
       "      <th>11</th>\n",
       "      <td>Credit reporting, credit repair services, or o...</td>\n",
       "      <td>On //2018, while trying to book a     ticket, ...</td>\n",
       "      <td>on  while trying to book a     ticket i came a...</td>\n",
       "      <td>on   while try to book a      ticket I come ac...</td>\n",
       "    </tr>\n",
       "    <tr>\n",
       "      <th>14</th>\n",
       "      <td>Checking or savings account+Checking account</td>\n",
       "      <td>my grand son give me check for {$1600.00} i de...</td>\n",
       "      <td>my grand son give me check for  i deposit it i...</td>\n",
       "      <td>my grand son give I check for   I deposit it i...</td>\n",
       "    </tr>\n",
       "  </tbody>\n",
       "</table>\n",
       "</div>"
      ],
      "text/plain": [
       "                                             Category  \\\n",
       "1                    Debt collection+Credit card debt   \n",
       "2   Credit card or prepaid card+General-purpose cr...   \n",
       "10  Credit reporting, credit repair services, or o...   \n",
       "11  Credit reporting, credit repair services, or o...   \n",
       "14       Checking or savings account+Checking account   \n",
       "\n",
       "                                            Complaint  \\\n",
       "1   Good morning my name is   and I appreciate it ...   \n",
       "2   I upgraded my   card in //2018 and was told by...   \n",
       "10  Chase Card was reported on //2019. However, fr...   \n",
       "11  On //2018, while trying to book a     ticket, ...   \n",
       "14  my grand son give me check for {$1600.00} i de...   \n",
       "\n",
       "                                     Complaints_Clean  \\\n",
       "1   good morning my name is   and i appreciate it ...   \n",
       "2   i upgraded my   card in  and was told by the a...   \n",
       "10  chase card was reported on  however fraudulent...   \n",
       "11  on  while trying to book a     ticket i came a...   \n",
       "14  my grand son give me check for  i deposit it i...   \n",
       "\n",
       "                                 Complains_Lemmatized  \n",
       "1   good morning my name be    and I appreciate it...  \n",
       "2   I upgrade my    card in   and be tell by the a...  \n",
       "10  chase card be report on   however fraudulent a...  \n",
       "11  on   while try to book a      ticket I come ac...  \n",
       "14  my grand son give I check for   I deposit it i...  "
      ]
     },
     "execution_count": 390,
     "metadata": {},
     "output_type": "execute_result"
    }
   ],
   "source": [
    "complain_df.head()"
   ]
  },
  {
   "cell_type": "code",
   "execution_count": 391,
   "id": "186fd6dc",
   "metadata": {},
   "outputs": [],
   "source": [
    "# POS tagging\n",
    "def extract_pos_tags(complaint_lemma):\n",
    "    doc = nlp(complaint_lemma)\n",
    "    sent = [token.text for token in doc if token.tag_ == 'NN']\n",
    "    return ' '.join(sent)"
   ]
  },
  {
   "cell_type": "code",
   "execution_count": 392,
   "id": "5d9f630e",
   "metadata": {},
   "outputs": [
    {
     "data": {
      "text/html": [
       "<div>\n",
       "<style scoped>\n",
       "    .dataframe tbody tr th:only-of-type {\n",
       "        vertical-align: middle;\n",
       "    }\n",
       "\n",
       "    .dataframe tbody tr th {\n",
       "        vertical-align: top;\n",
       "    }\n",
       "\n",
       "    .dataframe thead th {\n",
       "        text-align: right;\n",
       "    }\n",
       "</style>\n",
       "<table border=\"1\" class=\"dataframe\">\n",
       "  <thead>\n",
       "    <tr style=\"text-align: right;\">\n",
       "      <th></th>\n",
       "      <th>Category</th>\n",
       "      <th>Complaint</th>\n",
       "      <th>Complaints_Clean</th>\n",
       "      <th>Complains_Lemmatized</th>\n",
       "      <th>Complains_Tag</th>\n",
       "    </tr>\n",
       "  </thead>\n",
       "  <tbody>\n",
       "    <tr>\n",
       "      <th>1</th>\n",
       "      <td>Debt collection+Credit card debt</td>\n",
       "      <td>Good morning my name is   and I appreciate it ...</td>\n",
       "      <td>good morning my name is   and i appreciate it ...</td>\n",
       "      <td>good morning my name be    and I appreciate it...</td>\n",
       "      <td>morning name stop debt verification statement ...</td>\n",
       "    </tr>\n",
       "    <tr>\n",
       "      <th>2</th>\n",
       "      <td>Credit card or prepaid card+General-purpose cr...</td>\n",
       "      <td>I upgraded my   card in //2018 and was told by...</td>\n",
       "      <td>i upgraded my   card in  and was told by the a...</td>\n",
       "      <td>I upgrade my    card in   and be tell by the a...</td>\n",
       "      <td>card agent upgrade anniversary date agent info...</td>\n",
       "    </tr>\n",
       "    <tr>\n",
       "      <th>10</th>\n",
       "      <td>Credit reporting, credit repair services, or o...</td>\n",
       "      <td>Chase Card was reported on //2019. However, fr...</td>\n",
       "      <td>chase card was reported on  however fraudulent...</td>\n",
       "      <td>chase card be report on   however fraudulent a...</td>\n",
       "      <td>card report application identity consent servi...</td>\n",
       "    </tr>\n",
       "    <tr>\n",
       "      <th>11</th>\n",
       "      <td>Credit reporting, credit repair services, or o...</td>\n",
       "      <td>On //2018, while trying to book a     ticket, ...</td>\n",
       "      <td>on  while trying to book a     ticket i came a...</td>\n",
       "      <td>on   while try to book a      ticket I come ac...</td>\n",
       "      <td>ticket offer ticket reward card information of...</td>\n",
       "    </tr>\n",
       "    <tr>\n",
       "      <th>14</th>\n",
       "      <td>Checking or savings account+Checking account</td>\n",
       "      <td>my grand son give me check for {$1600.00} i de...</td>\n",
       "      <td>my grand son give me check for  i deposit it i...</td>\n",
       "      <td>my grand son give I check for   I deposit it i...</td>\n",
       "      <td>son chase account fund chase bank account mone...</td>\n",
       "    </tr>\n",
       "    <tr>\n",
       "      <th>...</th>\n",
       "      <td>...</td>\n",
       "      <td>...</td>\n",
       "      <td>...</td>\n",
       "      <td>...</td>\n",
       "      <td>...</td>\n",
       "    </tr>\n",
       "    <tr>\n",
       "      <th>78301</th>\n",
       "      <td>Checking or savings account+Checking account</td>\n",
       "      <td>My husband passed away. Chase bank put check o...</td>\n",
       "      <td>my husband passed away chase bank put check on...</td>\n",
       "      <td>my husband pass away chase bank put check on h...</td>\n",
       "      <td>husband check hold rent car insurance negative...</td>\n",
       "    </tr>\n",
       "    <tr>\n",
       "      <th>78303</th>\n",
       "      <td>Credit card or prepaid card+General-purpose cr...</td>\n",
       "      <td>After being a Chase Card customer for well ove...</td>\n",
       "      <td>after being a chase card customer for well ove...</td>\n",
       "      <td>after be a chase card customer for well over a...</td>\n",
       "      <td>chase card customer decade solicitation credit...</td>\n",
       "    </tr>\n",
       "    <tr>\n",
       "      <th>78309</th>\n",
       "      <td>Credit card or prepaid card+General-purpose cr...</td>\n",
       "      <td>On Wednesday, // I called Chas, my   Visa Cred...</td>\n",
       "      <td>on wednesday  i called chas my   visa credit c...</td>\n",
       "      <td>on wednesday   I call cha my    visa credit ca...</td>\n",
       "      <td>visa credit card provider claim purchase prote...</td>\n",
       "    </tr>\n",
       "    <tr>\n",
       "      <th>78310</th>\n",
       "      <td>Checking or savings account+Checking account</td>\n",
       "      <td>I am not familiar with  pay and did not unders...</td>\n",
       "      <td>i am not familiar with  pay and did not unders...</td>\n",
       "      <td>I be not familiar with   pay and do not unders...</td>\n",
       "      <td>risk consumer chase bank app chase year bankin...</td>\n",
       "    </tr>\n",
       "    <tr>\n",
       "      <th>78311</th>\n",
       "      <td>Credit card or prepaid card+General-purpose cr...</td>\n",
       "      <td>I have had flawless credit for 30 yrs. I've ha...</td>\n",
       "      <td>i have had flawless credit for  yrs ive had ch...</td>\n",
       "      <td>I have have flawless credit for   yrs I ve hav...</td>\n",
       "      <td>credit yrs chase credit card freedom problem b...</td>\n",
       "    </tr>\n",
       "  </tbody>\n",
       "</table>\n",
       "<p>18963 rows × 5 columns</p>\n",
       "</div>"
      ],
      "text/plain": [
       "                                                Category  \\\n",
       "1                       Debt collection+Credit card debt   \n",
       "2      Credit card or prepaid card+General-purpose cr...   \n",
       "10     Credit reporting, credit repair services, or o...   \n",
       "11     Credit reporting, credit repair services, or o...   \n",
       "14          Checking or savings account+Checking account   \n",
       "...                                                  ...   \n",
       "78301       Checking or savings account+Checking account   \n",
       "78303  Credit card or prepaid card+General-purpose cr...   \n",
       "78309  Credit card or prepaid card+General-purpose cr...   \n",
       "78310       Checking or savings account+Checking account   \n",
       "78311  Credit card or prepaid card+General-purpose cr...   \n",
       "\n",
       "                                               Complaint  \\\n",
       "1      Good morning my name is   and I appreciate it ...   \n",
       "2      I upgraded my   card in //2018 and was told by...   \n",
       "10     Chase Card was reported on //2019. However, fr...   \n",
       "11     On //2018, while trying to book a     ticket, ...   \n",
       "14     my grand son give me check for {$1600.00} i de...   \n",
       "...                                                  ...   \n",
       "78301  My husband passed away. Chase bank put check o...   \n",
       "78303  After being a Chase Card customer for well ove...   \n",
       "78309  On Wednesday, // I called Chas, my   Visa Cred...   \n",
       "78310  I am not familiar with  pay and did not unders...   \n",
       "78311  I have had flawless credit for 30 yrs. I've ha...   \n",
       "\n",
       "                                        Complaints_Clean  \\\n",
       "1      good morning my name is   and i appreciate it ...   \n",
       "2      i upgraded my   card in  and was told by the a...   \n",
       "10     chase card was reported on  however fraudulent...   \n",
       "11     on  while trying to book a     ticket i came a...   \n",
       "14     my grand son give me check for  i deposit it i...   \n",
       "...                                                  ...   \n",
       "78301  my husband passed away chase bank put check on...   \n",
       "78303  after being a chase card customer for well ove...   \n",
       "78309  on wednesday  i called chas my   visa credit c...   \n",
       "78310  i am not familiar with  pay and did not unders...   \n",
       "78311  i have had flawless credit for  yrs ive had ch...   \n",
       "\n",
       "                                    Complains_Lemmatized  \\\n",
       "1      good morning my name be    and I appreciate it...   \n",
       "2      I upgrade my    card in   and be tell by the a...   \n",
       "10     chase card be report on   however fraudulent a...   \n",
       "11     on   while try to book a      ticket I come ac...   \n",
       "14     my grand son give I check for   I deposit it i...   \n",
       "...                                                  ...   \n",
       "78301  my husband pass away chase bank put check on h...   \n",
       "78303  after be a chase card customer for well over a...   \n",
       "78309  on wednesday   I call cha my    visa credit ca...   \n",
       "78310  I be not familiar with   pay and do not unders...   \n",
       "78311  I have have flawless credit for   yrs I ve hav...   \n",
       "\n",
       "                                           Complains_Tag  \n",
       "1      morning name stop debt verification statement ...  \n",
       "2      card agent upgrade anniversary date agent info...  \n",
       "10     card report application identity consent servi...  \n",
       "11     ticket offer ticket reward card information of...  \n",
       "14     son chase account fund chase bank account mone...  \n",
       "...                                                  ...  \n",
       "78301  husband check hold rent car insurance negative...  \n",
       "78303  chase card customer decade solicitation credit...  \n",
       "78309  visa credit card provider claim purchase prote...  \n",
       "78310  risk consumer chase bank app chase year bankin...  \n",
       "78311  credit yrs chase credit card freedom problem b...  \n",
       "\n",
       "[18963 rows x 5 columns]"
      ]
     },
     "execution_count": 392,
     "metadata": {},
     "output_type": "execute_result"
    }
   ],
   "source": [
    "#The clean dataframe should now contain the raw complaint, lemmatized complaint and the complaint after removing POS tags.\n",
    "complain_df['Complains_Tag'] =  complain_df.Complains_Lemmatized.apply(lambda x: extract_pos_tags(x))\n",
    "complain_df"
   ]
  },
  {
   "cell_type": "markdown",
   "id": "bb9e2368",
   "metadata": {},
   "source": [
    "# EDA"
   ]
  },
  {
   "cell_type": "markdown",
   "id": "f1443c62",
   "metadata": {},
   "source": [
    "Steps:\n",
    "\n",
    "* Vizualizing the complains\n",
    "* Wordcloud\n",
    "* Creating ngrams - unigram, bigram, trigram\n",
    "* Seperating first 40 issues\n",
    "* Distribution of the 40 issues"
   ]
  },
  {
   "cell_type": "code",
   "execution_count": 394,
   "id": "fb20669b",
   "metadata": {},
   "outputs": [
    {
     "data": {
      "text/plain": [
       "1        morning name stop debt verification statement ...\n",
       "2        card agent upgrade anniversary date agent info...\n",
       "10       card report application identity consent servi...\n",
       "11       ticket offer ticket reward card information of...\n",
       "14       son chase account fund chase bank account mone...\n",
       "                               ...                        \n",
       "78301    husband check hold rent car insurance negative...\n",
       "78303    chase card customer decade solicitation credit...\n",
       "78309    visa credit card provider claim purchase prote...\n",
       "78310    risk consumer chase bank app chase year bankin...\n",
       "78311    credit yrs chase credit card freedom problem b...\n",
       "Name: Complains_Tag, Length: 18963, dtype: object"
      ]
     },
     "execution_count": 394,
     "metadata": {},
     "output_type": "execute_result"
    }
   ],
   "source": [
    "# Vizualization of Issues \n",
    "complain_df.Complains_Tag"
   ]
  },
  {
   "cell_type": "code",
   "execution_count": 395,
   "id": "b3e3579a",
   "metadata": {},
   "outputs": [
    {
     "data": {
      "text/plain": [
       "<matplotlib.image.AxesImage at 0x7fc305f46a40>"
      ]
     },
     "execution_count": 395,
     "metadata": {},
     "output_type": "execute_result"
    },
    {
     "data": {
      "text/plain": [
       "(-0.5, 399.5, 199.5, -0.5)"
      ]
     },
     "execution_count": 395,
     "metadata": {},
     "output_type": "execute_result"
    },
    {
     "data": {
      "image/png": "[encoded data removed]",
      "text/plain": [
       "<Figure size 1080x576 with 1 Axes>"
      ]
     },
     "metadata": {
      "needs_background": "light"
     },
     "output_type": "display_data"
    }
   ],
   "source": [
    "#Word Cloud\n",
    "\n",
    "# from wordcloud import WordCloud, STOPWORDS\n",
    "\n",
    "wordcloud= WordCloud(collocations = False, \n",
    "                     background_color = 'yellowgreen', \n",
    "                     stopwords=set(STOPWORDS), \n",
    "                     max_words=50, \n",
    "                     max_font_size=50, \n",
    "                     random_state=40).generate(str(complain_df['Complains_Tag']))\n",
    "\n",
    "fig=plt.figure(figsize = (15,8))\n",
    "plt.imshow(wordcloud)\n",
    "plt.axis('off')\n",
    "plt.show()"
   ]
  },
  {
   "cell_type": "code",
   "execution_count": 396,
   "id": "478691d5",
   "metadata": {},
   "outputs": [],
   "source": [
    "# Function to extract top ngrams(unigram/bigram/trigram)\n",
    "def ngrams(text, n=None, ngram=(1,3)):\n",
    "  vec = CountVectorizer(stop_words='english', ngram_range=ngram).fit(text)\n",
    "  bagofwords = vec.transform(text)\n",
    "  sum_words = bagofwords.sum(axis=0)\n",
    "  words_frequency = [(word, sum_words[0, index]) for word, index in vec.vocabulary_.items()]\n",
    "  words_frequency = sorted(words_frequency, key = lambda x: x[1], reverse=True)\n",
    "  return words_frequency[:n]"
   ]
  },
  {
   "cell_type": "code",
   "execution_count": 397,
   "id": "50d4bda0",
   "metadata": {},
   "outputs": [
    {
     "data": {
      "text/html": [
       "<div>\n",
       "<style scoped>\n",
       "    .dataframe tbody tr th:only-of-type {\n",
       "        vertical-align: middle;\n",
       "    }\n",
       "\n",
       "    .dataframe tbody tr th {\n",
       "        vertical-align: top;\n",
       "    }\n",
       "\n",
       "    .dataframe thead th {\n",
       "        text-align: right;\n",
       "    }\n",
       "</style>\n",
       "<table border=\"1\" class=\"dataframe\">\n",
       "  <thead>\n",
       "    <tr style=\"text-align: right;\">\n",
       "      <th></th>\n",
       "      <th>ngram</th>\n",
       "      <th>count</th>\n",
       "    </tr>\n",
       "  </thead>\n",
       "  <tbody>\n",
       "    <tr>\n",
       "      <th>0</th>\n",
       "      <td>account</td>\n",
       "      <td>43997</td>\n",
       "    </tr>\n",
       "    <tr>\n",
       "      <th>1</th>\n",
       "      <td>chase</td>\n",
       "      <td>32446</td>\n",
       "    </tr>\n",
       "    <tr>\n",
       "      <th>2</th>\n",
       "      <td>credit</td>\n",
       "      <td>27705</td>\n",
       "    </tr>\n",
       "    <tr>\n",
       "      <th>3</th>\n",
       "      <td>card</td>\n",
       "      <td>24806</td>\n",
       "    </tr>\n",
       "    <tr>\n",
       "      <th>4</th>\n",
       "      <td>payment</td>\n",
       "      <td>19313</td>\n",
       "    </tr>\n",
       "    <tr>\n",
       "      <th>5</th>\n",
       "      <td>bank</td>\n",
       "      <td>18519</td>\n",
       "    </tr>\n",
       "    <tr>\n",
       "      <th>6</th>\n",
       "      <td>time</td>\n",
       "      <td>14761</td>\n",
       "    </tr>\n",
       "    <tr>\n",
       "      <th>7</th>\n",
       "      <td>check</td>\n",
       "      <td>12510</td>\n",
       "    </tr>\n",
       "    <tr>\n",
       "      <th>8</th>\n",
       "      <td>charge</td>\n",
       "      <td>12302</td>\n",
       "    </tr>\n",
       "    <tr>\n",
       "      <th>9</th>\n",
       "      <td>day</td>\n",
       "      <td>12105</td>\n",
       "    </tr>\n",
       "    <tr>\n",
       "      <th>10</th>\n",
       "      <td>money</td>\n",
       "      <td>11560</td>\n",
       "    </tr>\n",
       "    <tr>\n",
       "      <th>11</th>\n",
       "      <td>loan</td>\n",
       "      <td>10702</td>\n",
       "    </tr>\n",
       "    <tr>\n",
       "      <th>12</th>\n",
       "      <td>credit card</td>\n",
       "      <td>10010</td>\n",
       "    </tr>\n",
       "    <tr>\n",
       "      <th>13</th>\n",
       "      <td>information</td>\n",
       "      <td>8834</td>\n",
       "    </tr>\n",
       "    <tr>\n",
       "      <th>14</th>\n",
       "      <td>letter</td>\n",
       "      <td>8657</td>\n",
       "    </tr>\n",
       "  </tbody>\n",
       "</table>\n",
       "</div>"
      ],
      "text/plain": [
       "          ngram  count\n",
       "0       account  43997\n",
       "1         chase  32446\n",
       "2        credit  27705\n",
       "3          card  24806\n",
       "4       payment  19313\n",
       "5          bank  18519\n",
       "6          time  14761\n",
       "7         check  12510\n",
       "8        charge  12302\n",
       "9           day  12105\n",
       "10        money  11560\n",
       "11         loan  10702\n",
       "12  credit card  10010\n",
       "13  information   8834\n",
       "14       letter   8657"
      ]
     },
     "execution_count": 397,
     "metadata": {},
     "output_type": "execute_result"
    }
   ],
   "source": [
    "top_40words = ngrams(complain_df['Complains_Tag'].values.astype('U'), n=40, ngram=(1,3))\n",
    "df_ngram = pd.DataFrame(top_40words, columns=['ngram', 'count'])\n",
    "\n",
    "# top 15 unigrams and their frequency\n",
    "df_ngram.head(15)"
   ]
  },
  {
   "cell_type": "code",
   "execution_count": 398,
   "id": "203af486",
   "metadata": {},
   "outputs": [
    {
     "data": {
      "text/plain": [
       "<Figure size 720x1080 with 0 Axes>"
      ]
     },
     "execution_count": 398,
     "metadata": {},
     "output_type": "execute_result"
    },
    {
     "data": {
      "text/plain": [
       "(array([0. , 0.2, 0.4, 0.6, 0.8, 1. ]),\n",
       " [Text(0, 0, ''),\n",
       "  Text(0, 0, ''),\n",
       "  Text(0, 0, ''),\n",
       "  Text(0, 0, ''),\n",
       "  Text(0, 0, ''),\n",
       "  Text(0, 0, '')])"
      ]
     },
     "execution_count": 398,
     "metadata": {},
     "output_type": "execute_result"
    },
    {
     "data": {
      "text/plain": [
       "Text(0.5, 1.0, 'Top 40 issues in complaints')"
      ]
     },
     "execution_count": 398,
     "metadata": {},
     "output_type": "execute_result"
    },
    {
     "data": {
      "image/png": "[encoded data removed]",
      "text/plain": [
       "<Figure size 720x1080 with 1 Axes>"
      ]
     },
     "metadata": {
      "needs_background": "light"
     },
     "output_type": "display_data"
    }
   ],
   "source": [
    "#Visual distribution of top 40 complains issues\n",
    "plt.figure(figsize=[10,15])\n",
    "plt.xticks(rotation=90)\n",
    "fig = sns.barplot(x=df_ngram['ngram'], y=df_ngram['count'])\n",
    "plt.title('Top 40 issues in complaints')\n",
    "plt.show()"
   ]
  },
  {
   "cell_type": "markdown",
   "id": "9cba124a",
   "metadata": {},
   "source": [
    "# Feature Engineering"
   ]
  },
  {
   "cell_type": "markdown",
   "id": "35b992ef",
   "metadata": {},
   "source": [
    "Steps:\n",
    "\n",
    "* TF-IDF (vectorizing data)\n",
    "* Document term matrix"
   ]
  },
  {
   "cell_type": "code",
   "execution_count": 399,
   "id": "0b7577b3",
   "metadata": {},
   "outputs": [],
   "source": [
    "#TF-IDF\n",
    "tfidf = TfidfVectorizer(max_df=0.95, min_df=2, stop_words='english')"
   ]
  },
  {
   "cell_type": "code",
   "execution_count": 400,
   "id": "925e9a66",
   "metadata": {},
   "outputs": [],
   "source": [
    "#Creating document term matrix\n",
    "doc_term_matrix = tfidf.fit_transform(complain_df['Complains_Tag'])"
   ]
  },
  {
   "cell_type": "markdown",
   "id": "797883b3",
   "metadata": {},
   "source": [
    "# Topic Modelling"
   ]
  },
  {
   "cell_type": "markdown",
   "id": "3dd7e118",
   "metadata": {},
   "source": [
    "Steps:\n",
    "\n",
    "Optimal number of topics (Gensim - NMF)\n",
    "* Spliting the text\n",
    "* Creating dictionary (mapping words to id)\n",
    "* Setting boundaries - (Remove words with length<3, keepping the dictionary size to 6000, limiting the word frequency to 85%)\n",
    "* Creating BOW corpus\n",
    "* Set topic range from 1 to 10\n",
    "* Calculate the coherence score for each topic\n",
    "* Compare the coherence score and get the optimum number of topics\n",
    "\n",
    "Topic Modelling with NMF\n",
    "* set the optimal topic number\n",
    "* Load NMF model\n",
    "* Fit document term matrix\n",
    "* Find out the words composition in each topic \n",
    "* Label the topic to its most coherent form\n",
    "* Map the document and topic"
   ]
  },
  {
   "cell_type": "code",
   "execution_count": 401,
   "id": "9bd4b708",
   "metadata": {},
   "outputs": [
    {
     "name": "stdout",
     "output_type": "stream",
     "text": [
      "5\n"
     ]
    }
   ],
   "source": [
    "# Use Gensim's NMF to get the best number of topics via coherence score\n",
    "texts = complain_df['Complains_Tag']\n",
    "data = [d.split() for d in texts]\n",
    "# Creating dictionary (mapping words and their integer id)\n",
    "dictionary = Dictionary(data)\n",
    "# Remove words with length<3, keepping the dictionary size to 6000, limiting the word frequency to 80%\n",
    "dictionary.filter_extremes(no_below=3,no_above=0.85,keep_n=6000)\n",
    "# Create BOW - (list of (token_id, token_count))\n",
    "corpus = [dictionary.doc2bow(text) for text in data]\n",
    "# Range of topics\n",
    "topic_nums = list(np.arange(5, 10, 1))\n",
    "\n",
    "# Nmf model - cCoherence score for each topic\n",
    "coherence_scores = []\n",
    "for num in topic_nums:\n",
    "    nmf = Nmf(corpus=corpus, num_topics=num, id2word=dictionary, chunksize=2000, passes=5,kappa=.1, minimum_probability=0.01, \n",
    "              w_max_iter=300, w_stop_condition=0.0001, h_max_iter=100, h_stop_condition=0.001, eval_every=10, normalize=True, random_state=42)\n",
    "    # Coherence model will calculate the score\n",
    "    cm = CoherenceModel(model=nmf,texts=texts,dictionary=dictionary,coherence='c_v')\n",
    "    coherence_scores.append(round(cm.get_coherence(), 5))\n",
    "      \n",
    "# Get the number of topics with the highest coherence score\n",
    "scores = list(zip(topic_nums, coherence_scores))\n",
    "optimum_topics = sorted(scores, key=itemgetter(1), reverse=True)[0][0]\n",
    "print(optimum_topics)"
   ]
  },
  {
   "cell_type": "code",
   "execution_count": 402,
   "id": "59525341",
   "metadata": {},
   "outputs": [],
   "source": [
    "# from sklearn.decomposition import NMF"
   ]
  },
  {
   "cell_type": "code",
   "execution_count": 403,
   "id": "a2afd1fc",
   "metadata": {},
   "outputs": [
    {
     "data": {
      "text/plain": [
       "6472"
      ]
     },
     "execution_count": 403,
     "metadata": {},
     "output_type": "execute_result"
    }
   ],
   "source": [
    "#Load nmf model with the n_components = 5\n",
    "num_topics = 5\n",
    "\n",
    "#keeping the random_state = 40\n",
    "nmf_model = NMF(n_components=num_topics, random_state=40)\n",
    "\n",
    "#NMF model\n",
    "W1 = nmf_model.fit(doc_term_matrix)\n",
    "len(tfidf.get_feature_names())"
   ]
  },
  {
   "cell_type": "code",
   "execution_count": 404,
   "id": "0db97adf",
   "metadata": {},
   "outputs": [
    {
     "data": {
      "text/plain": [
       "array([[7.90468923e-04, 0.00000000e+00, 0.00000000e+00, ...,\n",
       "        1.54595591e-03, 0.00000000e+00, 5.83129257e-04],\n",
       "       [0.00000000e+00, 4.27356299e-03, 0.00000000e+00, ...,\n",
       "        1.28326245e-03, 3.72786967e-04, 0.00000000e+00],\n",
       "       [0.00000000e+00, 0.00000000e+00, 0.00000000e+00, ...,\n",
       "        4.21715773e-03, 0.00000000e+00, 3.97282610e-03],\n",
       "       [2.51845281e-04, 3.75954054e-03, 0.00000000e+00, ...,\n",
       "        6.01917670e-03, 0.00000000e+00, 1.98221796e-03],\n",
       "       [4.29780891e-05, 6.73323481e-05, 1.35520489e-03, ...,\n",
       "        3.89889279e-03, 9.19175357e-04, 3.11469761e-03]])"
      ]
     },
     "execution_count": 404,
     "metadata": {},
     "output_type": "execute_result"
    }
   ],
   "source": [
    "H1 = nmf_model.components_\n",
    "H1"
   ]
  },
  {
   "cell_type": "code",
   "execution_count": 405,
   "id": "e913880b",
   "metadata": {},
   "outputs": [
    {
     "data": {
      "text/html": [
       "<div>\n",
       "<style scoped>\n",
       "    .dataframe tbody tr th:only-of-type {\n",
       "        vertical-align: middle;\n",
       "    }\n",
       "\n",
       "    .dataframe tbody tr th {\n",
       "        vertical-align: top;\n",
       "    }\n",
       "\n",
       "    .dataframe thead th {\n",
       "        text-align: right;\n",
       "    }\n",
       "</style>\n",
       "<table border=\"1\" class=\"dataframe\">\n",
       "  <thead>\n",
       "    <tr style=\"text-align: right;\">\n",
       "      <th></th>\n",
       "      <th>Word 1</th>\n",
       "      <th>Word 2</th>\n",
       "      <th>Word 3</th>\n",
       "      <th>Word 4</th>\n",
       "      <th>Word 5</th>\n",
       "      <th>Word 6</th>\n",
       "      <th>Word 7</th>\n",
       "      <th>Word 8</th>\n",
       "      <th>Word 9</th>\n",
       "      <th>Word 10</th>\n",
       "      <th>Word 11</th>\n",
       "      <th>Word 12</th>\n",
       "      <th>Word 13</th>\n",
       "      <th>Word 14</th>\n",
       "      <th>Word 15</th>\n",
       "    </tr>\n",
       "  </thead>\n",
       "  <tbody>\n",
       "    <tr>\n",
       "      <th>Topic 1</th>\n",
       "      <td>account</td>\n",
       "      <td>check</td>\n",
       "      <td>bank</td>\n",
       "      <td>money</td>\n",
       "      <td>fund</td>\n",
       "      <td>deposit</td>\n",
       "      <td>chase</td>\n",
       "      <td>branch</td>\n",
       "      <td>day</td>\n",
       "      <td>transaction</td>\n",
       "      <td>number</td>\n",
       "      <td>business</td>\n",
       "      <td>transfer</td>\n",
       "      <td>fee</td>\n",
       "      <td>claim</td>\n",
       "    </tr>\n",
       "    <tr>\n",
       "      <th>Topic 2</th>\n",
       "      <td>credit</td>\n",
       "      <td>report</td>\n",
       "      <td>inquiry</td>\n",
       "      <td>card</td>\n",
       "      <td>account</td>\n",
       "      <td>score</td>\n",
       "      <td>company</td>\n",
       "      <td>reporting</td>\n",
       "      <td>information</td>\n",
       "      <td>debt</td>\n",
       "      <td>bureaus</td>\n",
       "      <td>identity</td>\n",
       "      <td>application</td>\n",
       "      <td>theft</td>\n",
       "      <td>limit</td>\n",
       "    </tr>\n",
       "    <tr>\n",
       "      <th>Topic 3</th>\n",
       "      <td>payment</td>\n",
       "      <td>month</td>\n",
       "      <td>balance</td>\n",
       "      <td>fee</td>\n",
       "      <td>statement</td>\n",
       "      <td>time</td>\n",
       "      <td>day</td>\n",
       "      <td>auto</td>\n",
       "      <td>credit</td>\n",
       "      <td>chase</td>\n",
       "      <td>mortgage</td>\n",
       "      <td>date</td>\n",
       "      <td>car</td>\n",
       "      <td>account</td>\n",
       "      <td>year</td>\n",
       "    </tr>\n",
       "    <tr>\n",
       "      <th>Topic 4</th>\n",
       "      <td>card</td>\n",
       "      <td>charge</td>\n",
       "      <td>chase</td>\n",
       "      <td>credit</td>\n",
       "      <td>transaction</td>\n",
       "      <td>dispute</td>\n",
       "      <td>purchase</td>\n",
       "      <td>fee</td>\n",
       "      <td>fraud</td>\n",
       "      <td>merchant</td>\n",
       "      <td>service</td>\n",
       "      <td>claim</td>\n",
       "      <td>time</td>\n",
       "      <td>company</td>\n",
       "      <td>debit</td>\n",
       "    </tr>\n",
       "    <tr>\n",
       "      <th>Topic 5</th>\n",
       "      <td>loan</td>\n",
       "      <td>mortgage</td>\n",
       "      <td>home</td>\n",
       "      <td>modification</td>\n",
       "      <td>chase</td>\n",
       "      <td>property</td>\n",
       "      <td>year</td>\n",
       "      <td>rate</td>\n",
       "      <td>letter</td>\n",
       "      <td>document</td>\n",
       "      <td>time</td>\n",
       "      <td>foreclosure</td>\n",
       "      <td>house</td>\n",
       "      <td>sale</td>\n",
       "      <td>request</td>\n",
       "    </tr>\n",
       "  </tbody>\n",
       "</table>\n",
       "</div>"
      ],
      "text/plain": [
       "          Word 1    Word 2   Word 3        Word 4       Word 5    Word 6  \\\n",
       "Topic 1  account     check     bank         money         fund   deposit   \n",
       "Topic 2   credit    report  inquiry          card      account     score   \n",
       "Topic 3  payment     month  balance           fee    statement      time   \n",
       "Topic 4     card    charge    chase        credit  transaction   dispute   \n",
       "Topic 5     loan  mortgage     home  modification        chase  property   \n",
       "\n",
       "           Word 7     Word 8       Word 9      Word 10   Word 11      Word 12  \\\n",
       "Topic 1     chase     branch          day  transaction    number     business   \n",
       "Topic 2   company  reporting  information         debt   bureaus     identity   \n",
       "Topic 3       day       auto       credit        chase  mortgage         date   \n",
       "Topic 4  purchase        fee        fraud     merchant   service        claim   \n",
       "Topic 5      year       rate       letter     document      time  foreclosure   \n",
       "\n",
       "             Word 13  Word 14  Word 15  \n",
       "Topic 1     transfer      fee    claim  \n",
       "Topic 2  application    theft    limit  \n",
       "Topic 3          car  account     year  \n",
       "Topic 4         time  company    debit  \n",
       "Topic 5        house     sale  request  "
      ]
     },
     "execution_count": 405,
     "metadata": {},
     "output_type": "execute_result"
    }
   ],
   "source": [
    "#Print the Top15 words for each of the topics\n",
    "words = np.array(tfidf.get_feature_names())\n",
    "topic_words = pd.DataFrame(np.zeros((num_topics, 15)), index=[f'Topic {i + 1}' for i in range(num_topics)],\n",
    "                           columns=[f'Word {i + 1}' for i in range(15)]).astype(str)\n",
    "for i in range(num_topics):\n",
    "    ix = H1[i].argsort()[::-1][:15]\n",
    "    topic_words.iloc[i] = words[ix]\n",
    "\n",
    "topic_words"
   ]
  },
  {
   "cell_type": "markdown",
   "id": "faf3f7d3",
   "metadata": {},
   "source": [
    "#### *Observation: The below topics are apparent as main topics.*\n",
    "\n",
    "- 1.   Banking  Services\n",
    "- 2.   Card - Prepaid or Postpaid\n",
    "- 3.   Others\n",
    "- 4.   Fraud Reporting\n",
    "- 5.   Loans/Mortgage"
   ]
  },
  {
   "cell_type": "code",
   "execution_count": 406,
   "id": "f7a09784",
   "metadata": {},
   "outputs": [
    {
     "data": {
      "text/html": [
       "<div>\n",
       "<style scoped>\n",
       "    .dataframe tbody tr th:only-of-type {\n",
       "        vertical-align: middle;\n",
       "    }\n",
       "\n",
       "    .dataframe tbody tr th {\n",
       "        vertical-align: top;\n",
       "    }\n",
       "\n",
       "    .dataframe thead th {\n",
       "        text-align: right;\n",
       "    }\n",
       "</style>\n",
       "<table border=\"1\" class=\"dataframe\">\n",
       "  <thead>\n",
       "    <tr style=\"text-align: right;\">\n",
       "      <th></th>\n",
       "      <th>Category</th>\n",
       "      <th>Complaint</th>\n",
       "      <th>Complaints_Clean</th>\n",
       "      <th>Complains_Lemmatized</th>\n",
       "      <th>Complains_Tag</th>\n",
       "      <th>Topic</th>\n",
       "    </tr>\n",
       "  </thead>\n",
       "  <tbody>\n",
       "    <tr>\n",
       "      <th>1</th>\n",
       "      <td>Debt collection+Credit card debt</td>\n",
       "      <td>Good morning my name is   and I appreciate it ...</td>\n",
       "      <td>good morning my name is   and i appreciate it ...</td>\n",
       "      <td>good morning my name be    and I appreciate it...</td>\n",
       "      <td>morning name stop debt verification statement ...</td>\n",
       "      <td>4</td>\n",
       "    </tr>\n",
       "    <tr>\n",
       "      <th>2</th>\n",
       "      <td>Credit card or prepaid card+General-purpose cr...</td>\n",
       "      <td>I upgraded my   card in //2018 and was told by...</td>\n",
       "      <td>i upgraded my   card in  and was told by the a...</td>\n",
       "      <td>I upgrade my    card in   and be tell by the a...</td>\n",
       "      <td>card agent upgrade anniversary date agent info...</td>\n",
       "      <td>3</td>\n",
       "    </tr>\n",
       "    <tr>\n",
       "      <th>10</th>\n",
       "      <td>Credit reporting, credit repair services, or o...</td>\n",
       "      <td>Chase Card was reported on //2019. However, fr...</td>\n",
       "      <td>chase card was reported on  however fraudulent...</td>\n",
       "      <td>chase card be report on   however fraudulent a...</td>\n",
       "      <td>card report application identity consent servi...</td>\n",
       "      <td>1</td>\n",
       "    </tr>\n",
       "    <tr>\n",
       "      <th>11</th>\n",
       "      <td>Credit reporting, credit repair services, or o...</td>\n",
       "      <td>On //2018, while trying to book a     ticket, ...</td>\n",
       "      <td>on  while trying to book a     ticket i came a...</td>\n",
       "      <td>on   while try to book a      ticket I come ac...</td>\n",
       "      <td>ticket offer ticket reward card information of...</td>\n",
       "      <td>1</td>\n",
       "    </tr>\n",
       "    <tr>\n",
       "      <th>14</th>\n",
       "      <td>Checking or savings account+Checking account</td>\n",
       "      <td>my grand son give me check for {$1600.00} i de...</td>\n",
       "      <td>my grand son give me check for  i deposit it i...</td>\n",
       "      <td>my grand son give I check for   I deposit it i...</td>\n",
       "      <td>son chase account fund chase bank account mone...</td>\n",
       "      <td>0</td>\n",
       "    </tr>\n",
       "  </tbody>\n",
       "</table>\n",
       "</div>"
      ],
      "text/plain": [
       "                                             Category  \\\n",
       "1                    Debt collection+Credit card debt   \n",
       "2   Credit card or prepaid card+General-purpose cr...   \n",
       "10  Credit reporting, credit repair services, or o...   \n",
       "11  Credit reporting, credit repair services, or o...   \n",
       "14       Checking or savings account+Checking account   \n",
       "\n",
       "                                            Complaint  \\\n",
       "1   Good morning my name is   and I appreciate it ...   \n",
       "2   I upgraded my   card in //2018 and was told by...   \n",
       "10  Chase Card was reported on //2019. However, fr...   \n",
       "11  On //2018, while trying to book a     ticket, ...   \n",
       "14  my grand son give me check for {$1600.00} i de...   \n",
       "\n",
       "                                     Complaints_Clean  \\\n",
       "1   good morning my name is   and i appreciate it ...   \n",
       "2   i upgraded my   card in  and was told by the a...   \n",
       "10  chase card was reported on  however fraudulent...   \n",
       "11  on  while trying to book a     ticket i came a...   \n",
       "14  my grand son give me check for  i deposit it i...   \n",
       "\n",
       "                                 Complains_Lemmatized  \\\n",
       "1   good morning my name be    and I appreciate it...   \n",
       "2   I upgrade my    card in   and be tell by the a...   \n",
       "10  chase card be report on   however fraudulent a...   \n",
       "11  on   while try to book a      ticket I come ac...   \n",
       "14  my grand son give I check for   I deposit it i...   \n",
       "\n",
       "                                        Complains_Tag  Topic  \n",
       "1   morning name stop debt verification statement ...      4  \n",
       "2   card agent upgrade anniversary date agent info...      3  \n",
       "10  card report application identity consent servi...      1  \n",
       "11  ticket offer ticket reward card information of...      1  \n",
       "14  son chase account fund chase bank account mone...      0  "
      ]
     },
     "execution_count": 406,
     "metadata": {},
     "output_type": "execute_result"
    }
   ],
   "source": [
    "# Assigning the best topic to each complain\n",
    "doc_topic = nmf_model.transform(doc_term_matrix)\n",
    "complain_df['Topic'] = doc_topic.argmax(axis = 1)\n",
    "complain_df.head()"
   ]
  },
  {
   "cell_type": "code",
   "execution_count": 407,
   "id": "311646d0",
   "metadata": {},
   "outputs": [
    {
     "data": {
      "text/html": [
       "<div>\n",
       "<style scoped>\n",
       "    .dataframe tbody tr th:only-of-type {\n",
       "        vertical-align: middle;\n",
       "    }\n",
       "\n",
       "    .dataframe tbody tr th {\n",
       "        vertical-align: top;\n",
       "    }\n",
       "\n",
       "    .dataframe thead th {\n",
       "        text-align: right;\n",
       "    }\n",
       "</style>\n",
       "<table border=\"1\" class=\"dataframe\">\n",
       "  <thead>\n",
       "    <tr style=\"text-align: right;\">\n",
       "      <th></th>\n",
       "      <th>Category</th>\n",
       "      <th>Complaint</th>\n",
       "      <th>Complaints_Clean</th>\n",
       "      <th>Complains_Lemmatized</th>\n",
       "      <th>Complains_Tag</th>\n",
       "      <th>Topic</th>\n",
       "      <th>Domain_Topic</th>\n",
       "    </tr>\n",
       "  </thead>\n",
       "  <tbody>\n",
       "    <tr>\n",
       "      <th>1</th>\n",
       "      <td>Debt collection+Credit card debt</td>\n",
       "      <td>Good morning my name is   and I appreciate it ...</td>\n",
       "      <td>good morning my name is   and i appreciate it ...</td>\n",
       "      <td>good morning my name be    and I appreciate it...</td>\n",
       "      <td>morning name stop debt verification statement ...</td>\n",
       "      <td>4</td>\n",
       "      <td>Loans/Mortgage</td>\n",
       "    </tr>\n",
       "    <tr>\n",
       "      <th>2</th>\n",
       "      <td>Credit card or prepaid card+General-purpose cr...</td>\n",
       "      <td>I upgraded my   card in //2018 and was told by...</td>\n",
       "      <td>i upgraded my   card in  and was told by the a...</td>\n",
       "      <td>I upgrade my    card in   and be tell by the a...</td>\n",
       "      <td>card agent upgrade anniversary date agent info...</td>\n",
       "      <td>3</td>\n",
       "      <td>Fraud Reporting</td>\n",
       "    </tr>\n",
       "    <tr>\n",
       "      <th>10</th>\n",
       "      <td>Credit reporting, credit repair services, or o...</td>\n",
       "      <td>Chase Card was reported on //2019. However, fr...</td>\n",
       "      <td>chase card was reported on  however fraudulent...</td>\n",
       "      <td>chase card be report on   however fraudulent a...</td>\n",
       "      <td>card report application identity consent servi...</td>\n",
       "      <td>1</td>\n",
       "      <td>Card - Prepaid or Postpaid</td>\n",
       "    </tr>\n",
       "    <tr>\n",
       "      <th>11</th>\n",
       "      <td>Credit reporting, credit repair services, or o...</td>\n",
       "      <td>On //2018, while trying to book a     ticket, ...</td>\n",
       "      <td>on  while trying to book a     ticket i came a...</td>\n",
       "      <td>on   while try to book a      ticket I come ac...</td>\n",
       "      <td>ticket offer ticket reward card information of...</td>\n",
       "      <td>1</td>\n",
       "      <td>Card - Prepaid or Postpaid</td>\n",
       "    </tr>\n",
       "    <tr>\n",
       "      <th>14</th>\n",
       "      <td>Checking or savings account+Checking account</td>\n",
       "      <td>my grand son give me check for {$1600.00} i de...</td>\n",
       "      <td>my grand son give me check for  i deposit it i...</td>\n",
       "      <td>my grand son give I check for   I deposit it i...</td>\n",
       "      <td>son chase account fund chase bank account mone...</td>\n",
       "      <td>0</td>\n",
       "      <td>Banking services</td>\n",
       "    </tr>\n",
       "  </tbody>\n",
       "</table>\n",
       "</div>"
      ],
      "text/plain": [
       "                                             Category  \\\n",
       "1                    Debt collection+Credit card debt   \n",
       "2   Credit card or prepaid card+General-purpose cr...   \n",
       "10  Credit reporting, credit repair services, or o...   \n",
       "11  Credit reporting, credit repair services, or o...   \n",
       "14       Checking or savings account+Checking account   \n",
       "\n",
       "                                            Complaint  \\\n",
       "1   Good morning my name is   and I appreciate it ...   \n",
       "2   I upgraded my   card in //2018 and was told by...   \n",
       "10  Chase Card was reported on //2019. However, fr...   \n",
       "11  On //2018, while trying to book a     ticket, ...   \n",
       "14  my grand son give me check for {$1600.00} i de...   \n",
       "\n",
       "                                     Complaints_Clean  \\\n",
       "1   good morning my name is   and i appreciate it ...   \n",
       "2   i upgraded my   card in  and was told by the a...   \n",
       "10  chase card was reported on  however fraudulent...   \n",
       "11  on  while trying to book a     ticket i came a...   \n",
       "14  my grand son give me check for  i deposit it i...   \n",
       "\n",
       "                                 Complains_Lemmatized  \\\n",
       "1   good morning my name be    and I appreciate it...   \n",
       "2   I upgrade my    card in   and be tell by the a...   \n",
       "10  chase card be report on   however fraudulent a...   \n",
       "11  on   while try to book a      ticket I come ac...   \n",
       "14  my grand son give I check for   I deposit it i...   \n",
       "\n",
       "                                        Complains_Tag  Topic  \\\n",
       "1   morning name stop debt verification statement ...      4   \n",
       "2   card agent upgrade anniversary date agent info...      3   \n",
       "10  card report application identity consent servi...      1   \n",
       "11  ticket offer ticket reward card information of...      1   \n",
       "14  son chase account fund chase bank account mone...      0   \n",
       "\n",
       "                  Domain_Topic  \n",
       "1               Loans/Mortgage  \n",
       "2              Fraud Reporting  \n",
       "10  Card - Prepaid or Postpaid  \n",
       "11  Card - Prepaid or Postpaid  \n",
       "14            Banking services  "
      ]
     },
     "execution_count": 407,
     "metadata": {},
     "output_type": "execute_result"
    }
   ],
   "source": [
    "#Mapping topic names and Topics\n",
    "Topic_names = {\n",
    "    0:\"Banking services\",\n",
    "    1:\"Card - Prepaid or Postpaid\", \n",
    "    2:\"Others\",\n",
    "    3:\"Fraud Reporting\",\n",
    "    4:\"Loans/Mortgage\"\n",
    "}\n",
    "\n",
    "#Map Topics with Topic Names\n",
    "complain_df['Domain_Topic'] = complain_df['Topic'].map(Topic_names)\n",
    "complain_df.head()"
   ]
  },
  {
   "cell_type": "code",
   "execution_count": 425,
   "id": "46fb766d",
   "metadata": {},
   "outputs": [
    {
     "data": {
      "text/plain": [
       "<AxesSubplot:>"
      ]
     },
     "execution_count": 425,
     "metadata": {},
     "output_type": "execute_result"
    },
    {
     "data": {
      "image/png": "[encoded data removed]",
      "text/plain": [
       "<Figure size 432x288 with 1 Axes>"
      ]
     },
     "metadata": {
      "needs_background": "light"
     },
     "output_type": "display_data"
    }
   ],
   "source": [
    "# Checking the topic distribution across the dataset\n",
    "complain_df['Domain_Topic'].value_counts().plot.bar()"
   ]
  },
  {
   "cell_type": "markdown",
   "id": "27a91f97",
   "metadata": {},
   "source": [
    "### *Observation: There is a clear class imbalance between the different classes.*"
   ]
  },
  {
   "cell_type": "markdown",
   "id": "76f0d79b",
   "metadata": {},
   "source": [
    "## Training the model"
   ]
  },
  {
   "cell_type": "markdown",
   "id": "abea05bc",
   "metadata": {},
   "source": [
    "Steps:\n",
    "\n",
    "Train - Test split\n",
    "* create the labelled data\n",
    "* X - Labelled data\n",
    "* Y - Targets\n",
    "* Split the data into training and testing data - 80:30 split\n",
    "\n",
    "Supervised Learning\n",
    "* Load different classification models\n",
    "* Fit and transform the training data\n",
    "* Ensure to handle the class imbalance problem in the data\n",
    "* Train the data \n",
    "* Predict the classes\n",
    "* Check the confusion metrics parameters - f1 score, precision, recall\n",
    "* Select the best model\n",
    "\n",
    "Supervised - Classification Models\n",
    "* Logistic Regression\n",
    "* Naive Bayes\n",
    "* Decision Tree\n",
    "* Random forest "
   ]
  },
  {
   "cell_type": "code",
   "execution_count": 410,
   "id": "98288ed3",
   "metadata": {},
   "outputs": [],
   "source": [
    "#Training dataset - into X and Y\n",
    "X = complain_df[\"Complains_Tag\"]\n",
    "Y = complain_df[\"Topic\"]\n",
    "\n",
    "#Count Vectorizer\n",
    "vect = CountVectorizer()\n",
    "X_train_cntvec = vect.fit_transform(X)\n",
    "\n",
    "#TFIDF transformer\n",
    "tfidf_transformer = TfidfTransformer()\n",
    "X_train_tfidf = tfidf_transformer.fit_transform(X_train_cntvec)\n"
   ]
  },
  {
   "cell_type": "code",
   "execution_count": 411,
   "id": "8eb3d895",
   "metadata": {},
   "outputs": [],
   "source": [
    "## Test train split - 80:20 ratio\n",
    "X_train, X_test, y_train, y_test = train_test_split(X_train_tfidf, Y, test_size=0.20, random_state=40)"
   ]
  },
  {
   "cell_type": "code",
   "execution_count": 412,
   "id": "d756232e",
   "metadata": {},
   "outputs": [],
   "source": [
    "##Confusion Matrix for classification models\n",
    "target_topics = list(complain_df.Domain_Topic.unique())\n",
    "\n",
    "def confusionmatrix(X_test, y_test, model):\n",
    "    target_topics = list(complain_df.Domain_Topic.unique())\n",
    "    predicted = model.predict(X_test)\n",
    "    conf_matrix = confusion_matrix(y_test,predicted)\n",
    "    print(\"\\t\\t\\tConfusion Matrix Evaluation report\")\n",
    "    print(\"\\n\")\n",
    "    print(classification_report(y_test, predicted, target_names=target_topics))\n",
    "    print(\"Overall Model score\", reg_models.score(X_test,y_test))"
   ]
  },
  {
   "cell_type": "markdown",
   "id": "50b509ae",
   "metadata": {},
   "source": [
    "### Supervised training models without handling the class imbalance"
   ]
  },
  {
   "cell_type": "code",
   "execution_count": 413,
   "id": "d23498a6",
   "metadata": {},
   "outputs": [
    {
     "name": "stdout",
     "output_type": "stream",
     "text": [
      "\t\t\tConfusion Matrix Evaluation report\n",
      "\n",
      "\n",
      "                            precision    recall  f1-score   support\n",
      "\n",
      "            Loans/Mortgage       0.95      0.98      0.97       996\n",
      "           Fraud Reporting       0.97      0.95      0.96       524\n",
      "Card - Prepaid or Postpaid       0.97      0.91      0.94       417\n",
      "          Banking services       0.96      0.97      0.96      1121\n",
      "                    Others       0.95      0.95      0.95       735\n",
      "\n",
      "                  accuracy                           0.96      3793\n",
      "                 macro avg       0.96      0.95      0.96      3793\n",
      "              weighted avg       0.96      0.96      0.96      3793\n",
      "\n",
      "Overall Model score 0.9583443184814131\n"
     ]
    }
   ],
   "source": [
    "# Logistic regression model\n",
    "reg_models = LogisticRegression(random_state=40, penalty='l2',class_weight=None,multi_class='auto').fit(X_train,y_train)\n",
    "confusionmatrix(X_test, y_test, reg_models)"
   ]
  },
  {
   "cell_type": "code",
   "execution_count": 414,
   "id": "6a4551f2",
   "metadata": {},
   "outputs": [
    {
     "name": "stdout",
     "output_type": "stream",
     "text": [
      "\t\t\tConfusion Matrix Evaluation report\n",
      "\n",
      "\n",
      "                            precision    recall  f1-score   support\n",
      "\n",
      "            Loans/Mortgage       0.79      0.90      0.84       996\n",
      "           Fraud Reporting       0.89      0.56      0.69       524\n",
      "Card - Prepaid or Postpaid       0.93      0.16      0.27       417\n",
      "          Banking services       0.69      0.90      0.78      1121\n",
      "                    Others       0.79      0.85      0.82       735\n",
      "\n",
      "                  accuracy                           0.76      3793\n",
      "                 macro avg       0.82      0.67      0.68      3793\n",
      "              weighted avg       0.79      0.76      0.73      3793\n",
      "\n",
      "Overall Model score 0.9583443184814131\n"
     ]
    }
   ],
   "source": [
    "# Multinomial Naive Bayes for classification\n",
    "clf = MultinomialNB().fit(X_train, y_train)\n",
    "confusionmatrix(X_test, y_test, clf)"
   ]
  },
  {
   "cell_type": "code",
   "execution_count": 415,
   "id": "cc8fd529",
   "metadata": {},
   "outputs": [
    {
     "name": "stdout",
     "output_type": "stream",
     "text": [
      "\t\t\tConfusion Matrix Evaluation report\n",
      "\n",
      "\n",
      "                            precision    recall  f1-score   support\n",
      "\n",
      "            Loans/Mortgage       0.84      0.86      0.85       996\n",
      "           Fraud Reporting       0.79      0.81      0.80       524\n",
      "Card - Prepaid or Postpaid       0.79      0.80      0.79       417\n",
      "          Banking services       0.86      0.85      0.85      1121\n",
      "                    Others       0.87      0.85      0.86       735\n",
      "\n",
      "                  accuracy                           0.84      3793\n",
      "                 macro avg       0.83      0.83      0.83      3793\n",
      "              weighted avg       0.84      0.84      0.84      3793\n",
      "\n",
      "Overall Model score 0.9583443184814131\n"
     ]
    }
   ],
   "source": [
    "# Decision tree classifier\n",
    "decision_tree_classifier =  DecisionTreeClassifier(random_state=42).fit(X_train, y_train)\n",
    "confusionmatrix(X_test, y_test, decision_tree_classifier)"
   ]
  },
  {
   "cell_type": "code",
   "execution_count": 416,
   "id": "703c9ac0",
   "metadata": {},
   "outputs": [
    {
     "name": "stdout",
     "output_type": "stream",
     "text": [
      "\t\t\tConfusion Matrix Evaluation report\n",
      "\n",
      "\n",
      "                            precision    recall  f1-score   support\n",
      "\n",
      "            Loans/Mortgage       0.83      0.94      0.89       996\n",
      "           Fraud Reporting       0.88      0.82      0.85       524\n",
      "Card - Prepaid or Postpaid       0.93      0.55      0.69       417\n",
      "          Banking services       0.86      0.90      0.88      1121\n",
      "                    Others       0.88      0.91      0.89       735\n",
      "\n",
      "                  accuracy                           0.86      3793\n",
      "                 macro avg       0.88      0.82      0.84      3793\n",
      "              weighted avg       0.87      0.86      0.86      3793\n",
      "\n",
      "Overall Model score 0.9583443184814131\n"
     ]
    }
   ],
   "source": [
    "# Random forest classifier\n",
    "random_forest_classifier = RandomForestClassifier(random_state=42).fit(X_train, y_train)\n",
    "confusionmatrix(X_test, y_test, random_forest_classifier)"
   ]
  },
  {
   "cell_type": "markdown",
   "id": "e3eb17c0",
   "metadata": {},
   "source": [
    "### Supervised training models without handling the class imbalance"
   ]
  },
  {
   "cell_type": "code",
   "execution_count": 417,
   "id": "85a99839",
   "metadata": {},
   "outputs": [],
   "source": [
    "# Sampling the data to handle the class imbalance problem\n",
    "from sklearn.model_selection import StratifiedKFold\n",
    "stratifiedfolds = StratifiedKFold(n_splits = 5, shuffle = True, random_state = 40)"
   ]
  },
  {
   "cell_type": "code",
   "execution_count": 418,
   "id": "5d17b159",
   "metadata": {},
   "outputs": [],
   "source": [
    "# Function for GridSearchCV object\n",
    "def cv_gridsearch(model,stratifiedfolds,params,scoring):\n",
    "    \n",
    "    grid_search = GridSearchCV(model,\n",
    "                                cv=stratifiedfolds, \n",
    "                                param_grid=params, \n",
    "                                scoring=scoring, \n",
    "                                n_jobs=-1, verbose=1)\n",
    "    return grid_search"
   ]
  },
  {
   "cell_type": "markdown",
   "id": "4477468e",
   "metadata": {},
   "source": [
    "#### The Gridsearch CV process is computation instensive. Hence performing it for Logistic regression only."
   ]
  },
  {
   "cell_type": "code",
   "execution_count": 423,
   "id": "886aeeec",
   "metadata": {},
   "outputs": [
    {
     "name": "stdout",
     "output_type": "stream",
     "text": [
      "Fitting 5 folds for each of 18 candidates, totalling 90 fits\n"
     ]
    },
    {
     "name": "stderr",
     "output_type": "stream",
     "text": [
      "/home/shritid/Apps/miniconda3/envs/nlp/lib/python3.10/site-packages/sklearn/linear_model/_sag.py:350: ConvergenceWarning: The max_iter was reached which means the coef_ did not converge\n",
      "  warnings.warn(\n",
      "/home/shritid/Apps/miniconda3/envs/nlp/lib/python3.10/site-packages/sklearn/linear_model/_sag.py:350: ConvergenceWarning: The max_iter was reached which means the coef_ did not converge\n",
      "  warnings.warn(\n",
      "/home/shritid/Apps/miniconda3/envs/nlp/lib/python3.10/site-packages/sklearn/linear_model/_sag.py:350: ConvergenceWarning: The max_iter was reached which means the coef_ did not converge\n",
      "  warnings.warn(\n",
      "/home/shritid/Apps/miniconda3/envs/nlp/lib/python3.10/site-packages/sklearn/linear_model/_sag.py:350: ConvergenceWarning: The max_iter was reached which means the coef_ did not converge\n",
      "  warnings.warn(\n",
      "/home/shritid/Apps/miniconda3/envs/nlp/lib/python3.10/site-packages/sklearn/linear_model/_sag.py:350: ConvergenceWarning: The max_iter was reached which means the coef_ did not converge\n",
      "  warnings.warn(\n",
      "/home/shritid/Apps/miniconda3/envs/nlp/lib/python3.10/site-packages/sklearn/linear_model/_sag.py:350: ConvergenceWarning: The max_iter was reached which means the coef_ did not converge\n",
      "  warnings.warn(\n"
     ]
    },
    {
     "data": {
      "text/html": [
       "<style>#sk-container-id-10 {color: black;background-color: white;}#sk-container-id-10 pre{padding: 0;}#sk-container-id-10 div.sk-toggleable {background-color: white;}#sk-container-id-10 label.sk-toggleable__label {cursor: pointer;display: block;width: 100%;margin-bottom: 0;padding: 0.3em;box-sizing: border-box;text-align: center;}#sk-container-id-10 label.sk-toggleable__label-arrow:before {content: \"▸\";float: left;margin-right: 0.25em;color: #696969;}#sk-container-id-10 label.sk-toggleable__label-arrow:hover:before {color: black;}#sk-container-id-10 div.sk-estimator:hover label.sk-toggleable__label-arrow:before {color: black;}#sk-container-id-10 div.sk-toggleable__content {max-height: 0;max-width: 0;overflow: hidden;text-align: left;background-color: #f0f8ff;}#sk-container-id-10 div.sk-toggleable__content pre {margin: 0.2em;color: black;border-radius: 0.25em;background-color: #f0f8ff;}#sk-container-id-10 input.sk-toggleable__control:checked~div.sk-toggleable__content {max-height: 200px;max-width: 100%;overflow: auto;}#sk-container-id-10 input.sk-toggleable__control:checked~label.sk-toggleable__label-arrow:before {content: \"▾\";}#sk-container-id-10 div.sk-estimator input.sk-toggleable__control:checked~label.sk-toggleable__label {background-color: #d4ebff;}#sk-container-id-10 div.sk-label input.sk-toggleable__control:checked~label.sk-toggleable__label {background-color: #d4ebff;}#sk-container-id-10 input.sk-hidden--visually {border: 0;clip: rect(1px 1px 1px 1px);clip: rect(1px, 1px, 1px, 1px);height: 1px;margin: -1px;overflow: hidden;padding: 0;position: absolute;width: 1px;}#sk-container-id-10 div.sk-estimator {font-family: monospace;background-color: #f0f8ff;border: 1px dotted black;border-radius: 0.25em;box-sizing: border-box;margin-bottom: 0.5em;}#sk-container-id-10 div.sk-estimator:hover {background-color: #d4ebff;}#sk-container-id-10 div.sk-parallel-item::after {content: \"\";width: 100%;border-bottom: 1px solid gray;flex-grow: 1;}#sk-container-id-10 div.sk-label:hover label.sk-toggleable__label {background-color: #d4ebff;}#sk-container-id-10 div.sk-serial::before {content: \"\";position: absolute;border-left: 1px solid gray;box-sizing: border-box;top: 0;bottom: 0;left: 50%;z-index: 0;}#sk-container-id-10 div.sk-serial {display: flex;flex-direction: column;align-items: center;background-color: white;padding-right: 0.2em;padding-left: 0.2em;position: relative;}#sk-container-id-10 div.sk-item {position: relative;z-index: 1;}#sk-container-id-10 div.sk-parallel {display: flex;align-items: stretch;justify-content: center;background-color: white;position: relative;}#sk-container-id-10 div.sk-item::before, #sk-container-id-10 div.sk-parallel-item::before {content: \"\";position: absolute;border-left: 1px solid gray;box-sizing: border-box;top: 0;bottom: 0;left: 50%;z-index: -1;}#sk-container-id-10 div.sk-parallel-item {display: flex;flex-direction: column;z-index: 1;position: relative;background-color: white;}#sk-container-id-10 div.sk-parallel-item:first-child::after {align-self: flex-end;width: 50%;}#sk-container-id-10 div.sk-parallel-item:last-child::after {align-self: flex-start;width: 50%;}#sk-container-id-10 div.sk-parallel-item:only-child::after {width: 0;}#sk-container-id-10 div.sk-dashed-wrapped {border: 1px dashed gray;margin: 0 0.4em 0.5em 0.4em;box-sizing: border-box;padding-bottom: 0.4em;background-color: white;}#sk-container-id-10 div.sk-label label {font-family: monospace;font-weight: bold;display: inline-block;line-height: 1.2em;}#sk-container-id-10 div.sk-label-container {text-align: center;}#sk-container-id-10 div.sk-container {/* jupyter's `normalize.less` sets `[hidden] { display: none; }` but bootstrap.min.css set `[hidden] { display: none !important; }` so we also need the `!important` here to be able to override the default hidden behavior on the sphinx rendered scikit-learn.org. See: https://github.com/scikit-learn/scikit-learn/issues/21755 */display: inline-block !important;position: relative;}#sk-container-id-10 div.sk-text-repr-fallback {display: none;}</style><div id=\"sk-container-id-10\" class=\"sk-top-container\"><div class=\"sk-text-repr-fallback\"><pre>GridSearchCV(cv=StratifiedKFold(n_splits=5, random_state=40, shuffle=True),\n",
       "             estimator=LogisticRegression(), n_jobs=-1,\n",
       "             param_grid={&#x27;C&#x27;: [0.01, 1, 10], &#x27;penalty&#x27;: [&#x27;l1&#x27;, &#x27;l2&#x27;],\n",
       "                         &#x27;solver&#x27;: [&#x27;liblinear&#x27;, &#x27;newton-cg&#x27;, &#x27;saga&#x27;]},\n",
       "             verbose=1)</pre><b>In a Jupyter environment, please rerun this cell to show the HTML representation or trust the notebook. <br />On GitHub, the HTML representation is unable to render, please try loading this page with nbviewer.org.</b></div><div class=\"sk-container\" hidden><div class=\"sk-item sk-dashed-wrapped\"><div class=\"sk-label-container\"><div class=\"sk-label sk-toggleable\"><input class=\"sk-toggleable__control sk-hidden--visually\" id=\"sk-estimator-id-16\" type=\"checkbox\" ><label for=\"sk-estimator-id-16\" class=\"sk-toggleable__label sk-toggleable__label-arrow\">GridSearchCV</label><div class=\"sk-toggleable__content\"><pre>GridSearchCV(cv=StratifiedKFold(n_splits=5, random_state=40, shuffle=True),\n",
       "             estimator=LogisticRegression(), n_jobs=-1,\n",
       "             param_grid={&#x27;C&#x27;: [0.01, 1, 10], &#x27;penalty&#x27;: [&#x27;l1&#x27;, &#x27;l2&#x27;],\n",
       "                         &#x27;solver&#x27;: [&#x27;liblinear&#x27;, &#x27;newton-cg&#x27;, &#x27;saga&#x27;]},\n",
       "             verbose=1)</pre></div></div></div><div class=\"sk-parallel\"><div class=\"sk-parallel-item\"><div class=\"sk-item\"><div class=\"sk-label-container\"><div class=\"sk-label sk-toggleable\"><input class=\"sk-toggleable__control sk-hidden--visually\" id=\"sk-estimator-id-17\" type=\"checkbox\" ><label for=\"sk-estimator-id-17\" class=\"sk-toggleable__label sk-toggleable__label-arrow\">estimator: LogisticRegression</label><div class=\"sk-toggleable__content\"><pre>LogisticRegression()</pre></div></div></div><div class=\"sk-serial\"><div class=\"sk-item\"><div class=\"sk-estimator sk-toggleable\"><input class=\"sk-toggleable__control sk-hidden--visually\" id=\"sk-estimator-id-18\" type=\"checkbox\" ><label for=\"sk-estimator-id-18\" class=\"sk-toggleable__label sk-toggleable__label-arrow\">LogisticRegression</label><div class=\"sk-toggleable__content\"><pre>LogisticRegression()</pre></div></div></div></div></div></div></div></div></div></div>"
      ],
      "text/plain": [
       "GridSearchCV(cv=StratifiedKFold(n_splits=5, random_state=40, shuffle=True),\n",
       "             estimator=LogisticRegression(), n_jobs=-1,\n",
       "             param_grid={'C': [0.01, 1, 10], 'penalty': ['l1', 'l2'],\n",
       "                         'solver': ['liblinear', 'newton-cg', 'saga']},\n",
       "             verbose=1)"
      ]
     },
     "execution_count": 423,
     "metadata": {},
     "output_type": "execute_result"
    },
    {
     "name": "stdout",
     "output_type": "stream",
     "text": [
      "\t\t\tConfusion Matrix Evaluation report\n",
      "\n",
      "\n",
      "                            precision    recall  f1-score   support\n",
      "\n",
      "            Loans/Mortgage       0.98      0.98      0.98       996\n",
      "           Fraud Reporting       0.98      0.99      0.98       524\n",
      "Card - Prepaid or Postpaid       0.97      0.96      0.97       417\n",
      "          Banking services       0.98      0.98      0.98      1121\n",
      "                    Others       0.97      0.97      0.97       735\n",
      "\n",
      "                  accuracy                           0.98      3793\n",
      "                 macro avg       0.98      0.98      0.98      3793\n",
      "              weighted avg       0.98      0.98      0.98      3793\n",
      "\n",
      "Overall Model score 0.9583443184814131\n"
     ]
    }
   ],
   "source": [
    "# Logistic Regression with GridSearchCV\n",
    "log_reg_model = LogisticRegression()\n",
    "\n",
    "# List of hyperparameter for Logistic Regression\n",
    "reg_model_params = {\n",
    "              'C': [0.01, 1, 10], \n",
    "              'penalty': ['l1', 'l2'],\n",
    "              'solver': ['liblinear','newton-cg','saga']\n",
    "             }\n",
    "\n",
    "# Gridsearch \n",
    "grid_search_logreg = cv_gridsearch(log_reg_model, stratifiedfolds, reg_model_params, scoring=None)\n",
    "# fit model\n",
    "grid_search_logreg.fit(X_train, y_train)\n",
    "\n",
    "# Classification Report\n",
    "confusionmatrix(X_test, y_test, grid_search_logreg)"
   ]
  },
  {
   "cell_type": "markdown",
   "id": "3dd4e72b",
   "metadata": {},
   "source": [
    "# Conclusion"
   ]
  },
  {
   "cell_type": "markdown",
   "id": "6fe7418d",
   "metadata": {},
   "source": [
    "### We can see there are 5 topics in the document.\n",
    "### There is a class imbalance problem between the classess.\n",
    "### The best classification model is Logistic regression (before treating the class imbalace problem).\n",
    "### The score to judge the best model performance is F1 score for every class as it takes the harmonic mean between precision and recall "
   ]
  },
  {
   "cell_type": "code",
   "execution_count": null,
   "id": "1aa15e14",
   "metadata": {},
   "outputs": [],
   "source": []
  },
  {
   "cell_type": "code",
   "execution_count": null,
   "id": "74bbf509",
   "metadata": {},
   "outputs": [],
   "source": []
  },
  {
   "cell_type": "code",
   "execution_count": null,
   "id": "e6455de7",
   "metadata": {},
   "outputs": [],
   "source": []
  },
  {
   "cell_type": "code",
   "execution_count": null,
   "id": "1c4cbd1f",
   "metadata": {},
   "outputs": [],
   "source": []
  },
  {
   "cell_type": "code",
   "execution_count": null,
   "id": "6da43af1",
   "metadata": {},
   "outputs": [],
   "source": []
  },
  {
   "cell_type": "code",
   "execution_count": null,
   "id": "e4553cf2",
   "metadata": {},
   "outputs": [],
   "source": []
  },
  {
   "cell_type": "code",
   "execution_count": null,
   "id": "e9fbbadc",
   "metadata": {},
   "outputs": [],
   "source": []
  },
  {
   "cell_type": "code",
   "execution_count": null,
   "id": "8e34c3f6",
   "metadata": {},
   "outputs": [],
   "source": []
  },
  {
   "cell_type": "code",
   "execution_count": null,
   "id": "d3a7b210",
   "metadata": {},
   "outputs": [],
   "source": []
  },
  {
   "cell_type": "code",
   "execution_count": null,
   "id": "7c7ebade",
   "metadata": {},
   "outputs": [],
   "source": []
  }
 ],
 "metadata": {
  "kernelspec": {
   "display_name": "Python 3 (ipykernel)",
   "language": "python",
   "name": "python3"
  },
  "language_info": {
   "codemirror_mode": {
    "name": "ipython",
    "version": 3
   },
   "file_extension": ".py",
   "mimetype": "text/x-python",
   "name": "python",
   "nbconvert_exporter": "python",
   "pygments_lexer": "ipython3",
   "version": "3.10.4"
  }
 },
 "nbformat": 4,
 "nbformat_minor": 5
}
